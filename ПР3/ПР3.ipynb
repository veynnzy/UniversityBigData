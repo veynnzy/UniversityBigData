{
 "cells": [
  {
   "cell_type": "markdown",
   "source": [
    "## Библиотеки"
   ],
   "metadata": {
    "collapsed": false
   },
   "id": "6c8802a0a5140469"
  },
  {
   "cell_type": "code",
   "execution_count": 1,
   "id": "2d3d98683550d58c",
   "metadata": {
    "ExecuteTime": {
     "end_time": "2023-09-28T00:15:00.214966Z",
     "start_time": "2023-09-28T00:15:00.194291Z"
    }
   },
   "outputs": [],
   "source": [
    "import seaborn as sns\n",
    "import pandas as pd\n",
    "import matplotlib.pyplot as plt\n",
    "import numpy as np\n",
    "import scipy.stats as sts\n",
    "from random import randint\n",
    "import math\n",
    "import statistics\n",
    "import statsmodels.api as sm"
   ]
  },
  {
   "cell_type": "markdown",
   "source": [
    "# №1\n",
    "**Загрузить данные из файла “insurance.csv”.**"
   ],
   "metadata": {
    "collapsed": false
   },
   "id": "70a20907a747d0f7"
  },
  {
   "cell_type": "code",
   "execution_count": 2,
   "id": "6fb8c1612de30f72",
   "metadata": {
    "ExecuteTime": {
     "end_time": "2023-09-28T00:15:02.290198Z",
     "start_time": "2023-09-28T00:15:02.233816Z"
    }
   },
   "outputs": [],
   "source": [
    "df1 = pd.read_csv('/Users/katy/Documents/Mirea/7 сем/Бигдата/ПР3/insurance.csv')"
   ]
  },
  {
   "cell_type": "markdown",
   "source": [
    "# №2\n",
    "**С помощью метода describe() посмотреть статистику по данным. Сделать выводы.**"
   ],
   "metadata": {
    "collapsed": false
   },
   "id": "415bd7e72cd0d8a"
  },
  {
   "cell_type": "code",
   "execution_count": 3,
   "outputs": [
    {
     "data": {
      "text/plain": "               age          bmi     children       charges\ncount  1338.000000  1338.000000  1338.000000   1338.000000\nmean     39.207025    30.663397     1.094918  13270.422265\nstd      14.049960     6.098187     1.205493  12110.011237\nmin      18.000000    15.960000     0.000000   1121.873900\n25%      27.000000    26.296250     0.000000   4740.287150\n50%      39.000000    30.400000     1.000000   9382.033000\n75%      51.000000    34.693750     2.000000  16639.912515\nmax      64.000000    53.130000     5.000000  63770.428010",
      "text/html": "<div>\n<style scoped>\n    .dataframe tbody tr th:only-of-type {\n        vertical-align: middle;\n    }\n\n    .dataframe tbody tr th {\n        vertical-align: top;\n    }\n\n    .dataframe thead th {\n        text-align: right;\n    }\n</style>\n<table border=\"1\" class=\"dataframe\">\n  <thead>\n    <tr style=\"text-align: right;\">\n      <th></th>\n      <th>age</th>\n      <th>bmi</th>\n      <th>children</th>\n      <th>charges</th>\n    </tr>\n  </thead>\n  <tbody>\n    <tr>\n      <th>count</th>\n      <td>1338.000000</td>\n      <td>1338.000000</td>\n      <td>1338.000000</td>\n      <td>1338.000000</td>\n    </tr>\n    <tr>\n      <th>mean</th>\n      <td>39.207025</td>\n      <td>30.663397</td>\n      <td>1.094918</td>\n      <td>13270.422265</td>\n    </tr>\n    <tr>\n      <th>std</th>\n      <td>14.049960</td>\n      <td>6.098187</td>\n      <td>1.205493</td>\n      <td>12110.011237</td>\n    </tr>\n    <tr>\n      <th>min</th>\n      <td>18.000000</td>\n      <td>15.960000</td>\n      <td>0.000000</td>\n      <td>1121.873900</td>\n    </tr>\n    <tr>\n      <th>25%</th>\n      <td>27.000000</td>\n      <td>26.296250</td>\n      <td>0.000000</td>\n      <td>4740.287150</td>\n    </tr>\n    <tr>\n      <th>50%</th>\n      <td>39.000000</td>\n      <td>30.400000</td>\n      <td>1.000000</td>\n      <td>9382.033000</td>\n    </tr>\n    <tr>\n      <th>75%</th>\n      <td>51.000000</td>\n      <td>34.693750</td>\n      <td>2.000000</td>\n      <td>16639.912515</td>\n    </tr>\n    <tr>\n      <th>max</th>\n      <td>64.000000</td>\n      <td>53.130000</td>\n      <td>5.000000</td>\n      <td>63770.428010</td>\n    </tr>\n  </tbody>\n</table>\n</div>"
     },
     "execution_count": 3,
     "metadata": {},
     "output_type": "execute_result"
    }
   ],
   "source": [
    "df1.describe()"
   ],
   "metadata": {
    "collapsed": false,
    "ExecuteTime": {
     "end_time": "2023-09-28T00:15:02.974266Z",
     "start_time": "2023-09-28T00:15:02.907154Z"
    }
   },
   "id": "ec3194476e346f94"
  },
  {
   "cell_type": "markdown",
   "source": [
    "Получили описательную статистику для всех столбцов датасета.\n",
    "Минимальный возраст в датасете - 19 лет, максимальный - 64 года, средний - 39 лет. Стандартное отклонение - 14.05. \n",
    "Также можно увидеть разделение данных по квантилям: 25% данных не превышают значения 27, 50% данных - 39, 75% данных - 51.\n",
    "\n",
    "*С остальными столбцами аналогично.\n",
    "Еще можно выросы посмотреть, но там дальше задание будет на это.*"
   ],
   "metadata": {
    "collapsed": false
   },
   "id": "5db008d4c50b468d"
  },
  {
   "cell_type": "markdown",
   "source": [
    "# №3\n",
    "**Построить гистограммы для числовых показателей. Сделать выводы.**"
   ],
   "metadata": {
    "collapsed": false
   },
   "id": "250aef2d8211f14c"
  },
  {
   "cell_type": "markdown",
   "source": [
    "##### Гистограммы частот"
   ],
   "metadata": {
    "collapsed": false
   },
   "id": "6be6f216faeaf8c9"
  },
  {
   "cell_type": "code",
   "execution_count": 4,
   "outputs": [
    {
     "data": {
      "text/plain": "Text(0.5, 1.0, 'Гистограмма частот для возраста')"
     },
     "execution_count": 4,
     "metadata": {},
     "output_type": "execute_result"
    },
    {
     "data": {
      "text/plain": "<Figure size 640x480 with 1 Axes>",
      "image/png": "[encoded data removed]"
     },
     "metadata": {},
     "output_type": "display_data"
    }
   ],
   "source": [
    "sns.histplot(df1['age'], kde= False, color='c')\n",
    "plt.ylabel('count')\n",
    "plt.title('Гистограмма частот для возраста')"
   ],
   "metadata": {
    "collapsed": false,
    "ExecuteTime": {
     "end_time": "2023-09-28T00:15:03.674750Z",
     "start_time": "2023-09-28T00:15:03.476066Z"
    }
   },
   "id": "3c7f7f1ed99c9eba"
  },
  {
   "cell_type": "markdown",
   "source": [
    "Данные распределены по равномерному распределению."
   ],
   "metadata": {
    "collapsed": false
   },
   "id": "85612d51434885c8"
  },
  {
   "cell_type": "code",
   "execution_count": 5,
   "outputs": [
    {
     "data": {
      "text/plain": "Text(0.5, 1.0, 'Гистограмма частот для индекса массы тела')"
     },
     "execution_count": 5,
     "metadata": {},
     "output_type": "execute_result"
    },
    {
     "data": {
      "text/plain": "<Figure size 640x480 with 1 Axes>",
      "image/png": "[encoded data removed]"
     },
     "metadata": {},
     "output_type": "display_data"
    }
   ],
   "source": [
    "sns.histplot(df1['bmi'], kde= False, color='violet')\n",
    "plt.ylabel('count')\n",
    "plt.title('Гистограмма частот для индекса массы тела')"
   ],
   "metadata": {
    "collapsed": false,
    "ExecuteTime": {
     "end_time": "2023-09-28T00:15:03.941588Z",
     "start_time": "2023-09-28T00:15:03.792511Z"
    }
   },
   "id": "473f512b2e4afe60"
  },
  {
   "cell_type": "markdown",
   "source": [
    "Данные распределены по нормальному распределению."
   ],
   "metadata": {
    "collapsed": false
   },
   "id": "3c2953f186e09254"
  },
  {
   "cell_type": "code",
   "execution_count": 6,
   "outputs": [
    {
     "data": {
      "text/plain": "Text(0.5, 1.0, 'Гистограмма частот количества детей')"
     },
     "execution_count": 6,
     "metadata": {},
     "output_type": "execute_result"
    },
    {
     "data": {
      "text/plain": "<Figure size 640x480 with 1 Axes>",
      "image/png": "[encoded data removed]"
     },
     "metadata": {},
     "output_type": "display_data"
    }
   ],
   "source": [
    "sns.histplot(df1['children'], kde= False, color='b')\n",
    "plt.ylabel('count')\n",
    "plt.title('Гистограмма частот количества детей')"
   ],
   "metadata": {
    "collapsed": false,
    "ExecuteTime": {
     "end_time": "2023-09-28T00:15:04.250504Z",
     "start_time": "2023-09-28T00:15:04.092421Z"
    }
   },
   "id": "bafe9c7f08db11b8"
  },
  {
   "cell_type": "markdown",
   "source": [
    "Данные распределены по экспоненциальному распределению."
   ],
   "metadata": {
    "collapsed": false
   },
   "id": "cb09e44260d0dc32"
  },
  {
   "cell_type": "markdown",
   "source": [
    "# №4\n",
    "**Найти меры центральной тенденции и меры разброса для индекса массы тела (bmi) и расходов (charges). Отобразить результаты в виде текста и на гистограммах (3 вертикальные линии). Добавить легенду на графики. Сделать выводы.**"
   ],
   "metadata": {
    "collapsed": false
   },
   "id": "66eba90681af3cf2"
  },
  {
   "cell_type": "markdown",
   "source": [
    "##### Меры центральной тенденции для индекса массы тела"
   ],
   "metadata": {
    "collapsed": false
   },
   "id": "1c91f0f782357417"
  },
  {
   "cell_type": "code",
   "execution_count": 7,
   "outputs": [
    {
     "data": {
      "text/plain": "             Value\nМедиана  30.400000\nМода     32.300000\nСреднее  30.663397",
      "text/html": "<div>\n<style scoped>\n    .dataframe tbody tr th:only-of-type {\n        vertical-align: middle;\n    }\n\n    .dataframe tbody tr th {\n        vertical-align: top;\n    }\n\n    .dataframe thead th {\n        text-align: right;\n    }\n</style>\n<table border=\"1\" class=\"dataframe\">\n  <thead>\n    <tr style=\"text-align: right;\">\n      <th></th>\n      <th>Value</th>\n    </tr>\n  </thead>\n  <tbody>\n    <tr>\n      <th>Медиана</th>\n      <td>30.400000</td>\n    </tr>\n    <tr>\n      <th>Мода</th>\n      <td>32.300000</td>\n    </tr>\n    <tr>\n      <th>Среднее</th>\n      <td>30.663397</td>\n    </tr>\n  </tbody>\n</table>\n</div>"
     },
     "execution_count": 7,
     "metadata": {},
     "output_type": "execute_result"
    }
   ],
   "source": [
    "bmi_mode = sts.mode(df1['bmi'], axis= None, keepdims= False)\n",
    "bmi_mean = df1['bmi'].mean()\n",
    "bmi_med = df1['bmi'].median()\n",
    "bmi_mst = pd.DataFrame([bmi_med, bmi_mode[0], bmi_mean], index=['Медиана', 'Мода', 'Среднее'], columns=[\"Value\"])\n",
    "bmi_mst"
   ],
   "metadata": {
    "collapsed": false,
    "ExecuteTime": {
     "end_time": "2023-09-28T00:15:04.683477Z",
     "start_time": "2023-09-28T00:15:04.656169Z"
    }
   },
   "id": "26972df75c642d26"
  },
  {
   "cell_type": "markdown",
   "source": [
    "##### График мер центральной тенденции для индекса массы тела"
   ],
   "metadata": {
    "collapsed": false
   },
   "id": "37601b41a81f9abf"
  },
  {
   "cell_type": "code",
   "execution_count": 8,
   "outputs": [
    {
     "data": {
      "text/plain": "<Figure size 640x480 with 1 Axes>",
      "image/png": "[encoded data removed]"
     },
     "metadata": {},
     "output_type": "display_data"
    }
   ],
   "source": [
    "bmi_data = {'Measure': ['Медиана', 'Мода', 'Среднее'],\n",
    "            'Value': [bmi_med, bmi_mode[0], bmi_mean]}\n",
    "ax = sns.barplot(x= 'Measure', y= 'Value', data= bmi_data, palette = 'magma', hue = 'Measure')\n",
    "plt.legend(bbox_to_anchor=( 1.02 , 1 ), loc='upper left', borderaxespad= 0)\n",
    "\n",
    "for p in ax.patches:\n",
    "    ax.annotate(round(p.get_height(), 1), (p.get_x() + p.get_width() / 2., p.get_height()), ha='center', va='center', fontsize=12, color='black', xytext=(0, 5), textcoords='offset points')"
   ],
   "metadata": {
    "collapsed": false,
    "ExecuteTime": {
     "end_time": "2023-09-28T00:15:05.078785Z",
     "start_time": "2023-09-28T00:15:04.968581Z"
    }
   },
   "id": "f0575505bbe6036f"
  },
  {
   "cell_type": "markdown",
   "source": [
    "##### Меры центральной тенденции для расходов"
   ],
   "metadata": {
    "collapsed": false
   },
   "id": "4ef71590a810aa1e"
  },
  {
   "cell_type": "code",
   "execution_count": 9,
   "outputs": [
    {
     "data": {
      "text/plain": "                  x\nМедиана   9382.0330\nМода      1639.5631\nСреднее  13270.4220",
      "text/html": "<div>\n<style scoped>\n    .dataframe tbody tr th:only-of-type {\n        vertical-align: middle;\n    }\n\n    .dataframe tbody tr th {\n        vertical-align: top;\n    }\n\n    .dataframe thead th {\n        text-align: right;\n    }\n</style>\n<table border=\"1\" class=\"dataframe\">\n  <thead>\n    <tr style=\"text-align: right;\">\n      <th></th>\n      <th>x</th>\n    </tr>\n  </thead>\n  <tbody>\n    <tr>\n      <th>Медиана</th>\n      <td>9382.0330</td>\n    </tr>\n    <tr>\n      <th>Мода</th>\n      <td>1639.5631</td>\n    </tr>\n    <tr>\n      <th>Среднее</th>\n      <td>13270.4220</td>\n    </tr>\n  </tbody>\n</table>\n</div>"
     },
     "execution_count": 9,
     "metadata": {},
     "output_type": "execute_result"
    }
   ],
   "source": [
    "charges_mode = sts.mode(df1['charges'], axis= None, keepdims= False)\n",
    "charges_mean = round(df1['charges'].mean(), 3)\n",
    "charges_med = round(df1['charges'].median(), 3)\n",
    "charges_mst = pd.DataFrame([charges_med, charges_mode[0], charges_mean], index=['Медиана', 'Мода', 'Среднее'], columns=[\"x\"])\n",
    "charges_mst"
   ],
   "metadata": {
    "collapsed": false,
    "ExecuteTime": {
     "end_time": "2023-09-28T00:15:05.268529Z",
     "start_time": "2023-09-28T00:15:05.253350Z"
    }
   },
   "id": "ee471fc65120ca92"
  },
  {
   "cell_type": "markdown",
   "source": [
    "##### График  мер центральной тенденции для расходов"
   ],
   "metadata": {
    "collapsed": false
   },
   "id": "bdc75c6076ca5726"
  },
  {
   "cell_type": "code",
   "execution_count": 10,
   "outputs": [
    {
     "data": {
      "text/plain": "<Figure size 640x480 with 1 Axes>",
      "image/png": "[encoded data removed]"
     },
     "metadata": {},
     "output_type": "display_data"
    }
   ],
   "source": [
    "charges_data = {'Measure': ['Медиана', 'Мода', 'Среднее'],\n",
    "            'Value': [charges_med, charges_mode[0], charges_mean]}\n",
    "ax = sns.barplot(x= 'Measure', y= 'Value', data= charges_data, palette = 'mako', hue = 'Measure')\n",
    "plt.legend(bbox_to_anchor=( 1.02 , 1 ), loc='upper left', borderaxespad= 0)\n",
    "\n",
    "for p in ax.patches:\n",
    "    ax.annotate(round(p.get_height(), 1), (p.get_x() + p.get_width() / 2., p.get_height()), ha='center', va='center', fontsize=12, color='black', xytext=(0, 5), textcoords='offset points')"
   ],
   "metadata": {
    "collapsed": false,
    "ExecuteTime": {
     "end_time": "2023-09-28T00:15:06.084272Z",
     "start_time": "2023-09-28T00:15:05.985218Z"
    }
   },
   "id": "dbb94e268776c3f7"
  },
  {
   "cell_type": "markdown",
   "source": [
    "# №5\n",
    "**Построить box-plot для числовых показателей. Названия графиков должны соответствовать названиям признаков. Сделать выводы.**"
   ],
   "metadata": {
    "collapsed": false
   },
   "id": "e2b3067a9d38041"
  },
  {
   "cell_type": "markdown",
   "source": [
    "##### Box-plot для индекса массы тела и возраста"
   ],
   "metadata": {
    "collapsed": false
   },
   "id": "7dc45f9939437c46"
  },
  {
   "cell_type": "code",
   "execution_count": 11,
   "outputs": [
    {
     "data": {
      "text/plain": "Text(0.5, 1.0, 'Box-plot для индекса массы тела и возраста')"
     },
     "execution_count": 11,
     "metadata": {},
     "output_type": "execute_result"
    },
    {
     "data": {
      "text/plain": "<Figure size 640x480 with 1 Axes>",
      "image/png": "[encoded data removed]"
     },
     "metadata": {},
     "output_type": "display_data"
    }
   ],
   "source": [
    "df_bp = pd.melt(df1)\n",
    "df_bp = df_bp[(df_bp['variable'] == 'age') | (df_bp['variable'] == 'bmi')]\n",
    "sns.boxplot(x= 'variable', y= 'value', data= df_bp)\n",
    "plt.title(\"Box-plot для индекса массы тела и возраста\")"
   ],
   "metadata": {
    "collapsed": false,
    "ExecuteTime": {
     "end_time": "2023-09-28T00:15:06.598821Z",
     "start_time": "2023-09-28T00:15:06.487089Z"
    }
   },
   "id": "9513a7416d640a92"
  },
  {
   "cell_type": "markdown",
   "source": [
    "##### Box-plot для дохода"
   ],
   "metadata": {
    "collapsed": false
   },
   "id": "20907bec830116d"
  },
  {
   "cell_type": "code",
   "execution_count": 12,
   "outputs": [
    {
     "data": {
      "text/plain": "Text(0.5, 1.0, 'Box-plot для дохода')"
     },
     "execution_count": 12,
     "metadata": {},
     "output_type": "execute_result"
    },
    {
     "data": {
      "text/plain": "<Figure size 640x480 with 1 Axes>",
      "image/png": "[encoded data removed]"
     },
     "metadata": {},
     "output_type": "display_data"
    }
   ],
   "source": [
    "df_bp1 = pd.melt(df1)\n",
    "df_bp1 = df_bp1[(df_bp1['variable'] == 'charges')]\n",
    "sns.boxplot(x= 'variable', y= 'value', data= df_bp1)\n",
    "plt.title(\"Box-plot для дохода\")"
   ],
   "metadata": {
    "collapsed": false,
    "ExecuteTime": {
     "end_time": "2023-09-28T00:15:06.919796Z",
     "start_time": "2023-09-28T00:15:06.819229Z"
    }
   },
   "id": "f9b6a5959bc0d4c4"
  },
  {
   "cell_type": "markdown",
   "source": [
    "# №6\n",
    "**Используя признак charges или bmi, проверить, выполняется ли центральная предельная теорема. Использовать различные длины выборок n. Количество выборок = 300. Вывести результат в виде гистограмм. Найти стандартное отклонение и среднее для полученных распределений.\n",
    "Сделать выводы.**"
   ],
   "metadata": {
    "collapsed": false
   },
   "id": "7641b52104025393"
  },
  {
   "cell_type": "markdown",
   "source": [
    "##### Проверим выполняется ли ЦПТ на признаке charges."
   ],
   "metadata": {
    "collapsed": false
   },
   "id": "3410a0c35e28abc9"
  },
  {
   "cell_type": "code",
   "execution_count": 13,
   "outputs": [
    {
     "data": {
      "text/plain": "<Figure size 640x480 with 1 Axes>",
      "image/png": "[encoded data removed]"
     },
     "metadata": {},
     "output_type": "display_data"
    },
    {
     "name": "stdout",
     "output_type": "stream",
     "text": [
      "Стандартное отклонение для n=50: 1880.2603042088078\n",
      "Среднее значение для n=50: 13379.579585314134\n",
      "Стандартное отклонение для n=250: 756.4758674786666\n",
      "Среднее значение для n=250: 13267.1534650924\n",
      "Стандартное отклонение для n=1000: 402.06945470776213\n",
      "Среднее значение для n=1000: 13283.030774798786\n"
     ]
    }
   ],
   "source": [
    "df_cpt2 = df1['charges']\n",
    "\n",
    "N_samples = 300\n",
    "sample_sizes = [50, 250, 1000]\n",
    "\n",
    "sample_means = []\n",
    "std_values = []\n",
    "graph_means = []\n",
    "\n",
    "for n in sample_sizes:\n",
    "    means = []\n",
    "    for j in range(N_samples):\n",
    "        sample = np.random.choice(df_cpt2, size=n, replace=True)\n",
    "        sample_mean = np.mean(sample)\n",
    "        means.append(sample_mean)\n",
    "    sample_means.append(means)\n",
    "    std_value = np.std(means)\n",
    "    std_values.append(std_value)\n",
    "\n",
    "for i, n in enumerate(sample_sizes):\n",
    "    plt.hist(sample_means[i], bins=30, alpha=0.5, label=f'n={n}')\n",
    "\n",
    "plt.legend(loc='upper right')\n",
    "plt.xlabel('Средние значения')\n",
    "plt.ylabel('Частота')\n",
    "plt.show()\n",
    "\n",
    "for q in range(len(sample_means)):\n",
    "    m = statistics.mean(sample_means[q])\n",
    "    graph_means.append((m))\n",
    "\n",
    "for i, n in enumerate(sample_sizes):\n",
    "    print(f'Стандартное отклонение для n={n}: {std_values[i]}')\n",
    "    print(f'Среднее значение для n={n}: {graph_means[i]}')\n"
   ],
   "metadata": {
    "collapsed": false,
    "ExecuteTime": {
     "end_time": "2023-09-28T00:15:07.537496Z",
     "start_time": "2023-09-28T00:15:07.324053Z"
    }
   },
   "id": "4f784c5681bfe541"
  },
  {
   "cell_type": "markdown",
   "source": [
    "Можем сделать вывод, что ЦПТ выполняется."
   ],
   "metadata": {
    "collapsed": false
   },
   "id": "c5dd9479815b2a12"
  },
  {
   "cell_type": "markdown",
   "source": [
    "# №7\n",
    "**Построить 95% и 99% доверительный интервал для среднего значения расходов и среднего значения индекса массы тела.**"
   ],
   "metadata": {
    "collapsed": false
   },
   "id": "9ffea02d6eee4620"
  },
  {
   "cell_type": "markdown",
   "source": [
    "##### Доверительные интервалы для среднего значения расходов, 95% и 99% соответственно."
   ],
   "metadata": {
    "collapsed": false
   },
   "id": "2241e05327a9dbea"
  },
  {
   "cell_type": "code",
   "execution_count": 14,
   "outputs": [
    {
     "data": {
      "text/plain": "(12621.54197822916, 13919.302552053354)"
     },
     "execution_count": 14,
     "metadata": {},
     "output_type": "execute_result"
    }
   ],
   "source": [
    "sts.norm.interval(confidence= 0.95, loc=np.mean(df1['charges']), scale=sts.sem(df1['charges']))"
   ],
   "metadata": {
    "collapsed": false,
    "ExecuteTime": {
     "end_time": "2023-09-28T00:15:15.036056Z",
     "start_time": "2023-09-28T00:15:15.001398Z"
    }
   },
   "id": "b274df237d082b05"
  },
  {
   "cell_type": "code",
   "execution_count": 15,
   "outputs": [
    {
     "data": {
      "text/plain": "(12417.649014863586, 14123.195515418927)"
     },
     "execution_count": 15,
     "metadata": {},
     "output_type": "execute_result"
    }
   ],
   "source": [
    "sts.norm.interval(confidence= 0.99, loc=np.mean(df1['charges']), scale=sts.sem(df1['charges']))"
   ],
   "metadata": {
    "collapsed": false,
    "ExecuteTime": {
     "end_time": "2023-09-28T00:15:15.395125Z",
     "start_time": "2023-09-28T00:15:15.380777Z"
    }
   },
   "id": "e349c0965ca37d51"
  },
  {
   "cell_type": "markdown",
   "source": [
    "##### Доверительные интервалы для среднего значения индекса массы тела."
   ],
   "metadata": {
    "collapsed": false
   },
   "id": "e62ae61c90fea5d8"
  },
  {
   "cell_type": "code",
   "execution_count": 16,
   "outputs": [
    {
     "data": {
      "text/plain": "(30.33664297153481, 30.990150750438264)"
     },
     "execution_count": 16,
     "metadata": {},
     "output_type": "execute_result"
    }
   ],
   "source": [
    "sts.norm.interval(confidence= 0.95, loc=np.mean(df1['bmi']), scale=sts.sem(df1['bmi']))"
   ],
   "metadata": {
    "collapsed": false,
    "ExecuteTime": {
     "end_time": "2023-09-28T00:15:16.376808Z",
     "start_time": "2023-09-28T00:15:16.371013Z"
    }
   },
   "id": "e39922687023bf59"
  },
  {
   "cell_type": "code",
   "execution_count": 17,
   "outputs": [
    {
     "data": {
      "text/plain": "(30.233969458168293, 31.092824263804783)"
     },
     "execution_count": 17,
     "metadata": {},
     "output_type": "execute_result"
    }
   ],
   "source": [
    "sts.norm.interval(confidence= 0.99, loc=np.mean(df1['bmi']), scale=sts.sem(df1['bmi']))"
   ],
   "metadata": {
    "collapsed": false,
    "ExecuteTime": {
     "end_time": "2023-09-28T00:15:16.747544Z",
     "start_time": "2023-09-28T00:15:16.718427Z"
    }
   },
   "id": "3e66f29e49522638"
  },
  {
   "cell_type": "markdown",
   "source": [
    "# №8\n",
    "**Проверить распределения следующих признаков на нормальность: индекс массы тела, расходы. Сформулировать нулевую и альтернативную гипотезы. Для каждого признака использовать KS-тест и q-q plot. Сделать выводы на основе полученных p-значений.**"
   ],
   "metadata": {
    "collapsed": false
   },
   "id": "5c963dceda91f139"
  },
  {
   "cell_type": "markdown",
   "source": [
    "H0 - Принадлежит нормальному распределению.\n",
    "H1 - Не принадлежит."
   ],
   "metadata": {
    "collapsed": false
   },
   "id": "5ae54361de8fe6c3"
  },
  {
   "cell_type": "markdown",
   "source": [
    "##### Проверка на нормальность для bmi."
   ],
   "metadata": {
    "collapsed": false
   },
   "id": "a1f91c96df62e1f3"
  },
  {
   "cell_type": "code",
   "execution_count": 18,
   "outputs": [
    {
     "name": "stdout",
     "output_type": "stream",
     "text": [
      "Статистика критерия:  0.02613962682509635\n",
      "p-value:  0.31453976932347394\n",
      "Не отвергаем нулевую гипотезу: Выборка распределена нормально. \n"
     ]
    }
   ],
   "source": [
    "df_kst_bmi = df1['bmi'].tolist()\n",
    "df_kst_fit_bmi = np.hstack([np.repeat(x, repeats=len(df_kst_bmi)) for x in df_kst_bmi])\n",
    "loc, scale = sts.norm.fit(df_kst_bmi)\n",
    "normal = sts.norm(loc=loc, scale=scale)\n",
    "ks_stat, p_value = sts.kstest(df1['bmi'], normal.cdf)\n",
    "print('Статистика критерия: ', ks_stat)\n",
    "print('p-value: ', p_value)\n",
    "\n",
    "if p_value < 0.05:\n",
    "    print('Отвергаем нулевую гипотезу: Выборка не подчиняется нормальному распределению.')\n",
    "else:\n",
    "    print('Не отвергаем нулевую гипотезу: Выборка распределена нормально. ')"
   ],
   "metadata": {
    "collapsed": false,
    "ExecuteTime": {
     "end_time": "2023-09-28T00:15:18.142784Z",
     "start_time": "2023-09-28T00:15:18.085589Z"
    }
   },
   "id": "3d01a8cfa039a93"
  },
  {
   "cell_type": "markdown",
   "source": [
    "##### QQ-plot для bmi."
   ],
   "metadata": {
    "collapsed": false
   },
   "id": "d55c218f8de71532"
  },
  {
   "cell_type": "code",
   "execution_count": 19,
   "outputs": [
    {
     "data": {
      "text/plain": "<Figure size 500x400 with 1 Axes>",
      "image/png": "[encoded data removed]"
     },
     "metadata": {},
     "output_type": "display_data"
    }
   ],
   "source": [
    "plt.figure(figsize=(5, 4))\n",
    "sts.probplot(df1['bmi'], dist=\"norm\", plot=plt)\n",
    "plt.title(\"QQ-Plot\")\n",
    "plt.xlabel(\"Теоретические квантили\")\n",
    "plt.ylabel(\"Выборочные квантили\")\n",
    "plt.show()"
   ],
   "metadata": {
    "collapsed": false,
    "ExecuteTime": {
     "end_time": "2023-09-28T00:15:19.037727Z",
     "start_time": "2023-09-28T00:15:18.929756Z"
    }
   },
   "id": "8e0cd9821c044e2a"
  },
  {
   "cell_type": "markdown",
   "source": [
    "##### Проверка на нормальность для charges."
   ],
   "metadata": {
    "collapsed": false
   },
   "id": "d74943e6f345cde"
  },
  {
   "cell_type": "code",
   "execution_count": 20,
   "outputs": [
    {
     "name": "stdout",
     "output_type": "stream",
     "text": [
      "Статистика критерия:  0.18846204110424236\n",
      "p-value:  4.39305730768502e-42\n",
      "Отвергаем нулевую гипотезу: Выборка не подчиняется нормальному распределению.\n"
     ]
    }
   ],
   "source": [
    "df_kst_charges = df1['charges'].tolist()\n",
    "df_kst_fit_charges = np.hstack([np.repeat(x, repeats=len(df_kst_charges)) for x in df_kst_charges])\n",
    "loc, scale = sts.norm.fit(df_kst_charges)\n",
    "normal = sts.norm(loc=loc, scale=scale)\n",
    "ks_stat, p_value = sts.kstest(df1['charges'], normal.cdf)\n",
    "print('Статистика критерия: ', ks_stat)\n",
    "print('p-value: ', p_value)\n",
    "\n",
    "if p_value < 0.05:\n",
    "    print('Отвергаем нулевую гипотезу: Выборка не подчиняется нормальному распределению.')\n",
    "else:\n",
    "    print('Не отвергаем нулевую гипотезу: Выборка распределена нормально. ')"
   ],
   "metadata": {
    "collapsed": false,
    "ExecuteTime": {
     "end_time": "2023-09-28T00:15:19.723178Z",
     "start_time": "2023-09-28T00:15:19.669290Z"
    }
   },
   "id": "7512cb1d70308fbc"
  },
  {
   "cell_type": "markdown",
   "source": [
    "##### QQ-plot для charges."
   ],
   "metadata": {
    "collapsed": false
   },
   "id": "d411f48d594743ec"
  },
  {
   "cell_type": "code",
   "execution_count": 21,
   "outputs": [
    {
     "data": {
      "text/plain": "<Figure size 500x400 with 1 Axes>",
      "image/png": "[encoded data removed]"
     },
     "metadata": {},
     "output_type": "display_data"
    }
   ],
   "source": [
    "plt.figure(figsize=(5, 4))\n",
    "sts.probplot(df1['charges'], dist=\"norm\", plot=plt)\n",
    "plt.title(\"QQ-Plot\")\n",
    "plt.xlabel(\"Теоретические квантили\")\n",
    "plt.ylabel(\"Выборочные квантили\")\n",
    "plt.show()"
   ],
   "metadata": {
    "collapsed": false,
    "ExecuteTime": {
     "end_time": "2023-09-28T00:15:20.541811Z",
     "start_time": "2023-09-28T00:15:20.427272Z"
    }
   },
   "id": "eee60bfdecbc1221"
  },
  {
   "cell_type": "markdown",
   "source": [
    "##### Проверка на нормальность с помощью критерия согласия Пирсона.\n",
    "*(Это вообще не надо, это так для себя.)*"
   ],
   "metadata": {
    "collapsed": false
   },
   "id": "34ca1ff9a29c92f7"
  },
  {
   "cell_type": "code",
   "execution_count": 22,
   "outputs": [],
   "source": [
    "def distribution_test(data):\n",
    "    data = data.to_frame()\n",
    "    data = data.rename(columns={data.columns[0]: \"value\" })\n",
    "    g = 1 + math.floor(math.log2(len(data)))\n",
    "    N = randint(1,len(data))\n",
    "    df_cpt_h = data.sample(n= N)\n",
    "    n_group = 1 + (int(np.log2(len(df_cpt_h))))\n",
    "    h = abs((df_cpt_h.max()) - (df_cpt_h.min())) / n_group\n",
    "    df_cpt_h[\"table_cut\"] = pd.cut(df_cpt_h.value, n_group)\n",
    "    table = df_cpt_h.groupby(\"table_cut\", as_index= False).count()\n",
    "    upp = np.arange(min(df_cpt_h.value) + h[0] + 0.0001, max(df_cpt_h.value) + h[0], h[0])\n",
    "    low = np.arange(min(df_cpt_h.value), max(df_cpt_h.value), h[0])\n",
    "    med = (low+upp)/2\n",
    "    table[\"low\"] = low\n",
    "    table[\"upp\"] = upp\n",
    "    table[\"median\"] = med\n",
    "    table[\"rel_freq\"] = table.value/table.value.sum()\n",
    "    mu_sample = sum(table[\"median\"] * table.rel_freq)\n",
    "    sd_sample = sum((table[\"median\"] - mu_sample)**2 * table.rel_freq)**0.5\n",
    "    \n",
    "    def inter_norm(upper, MU, SD):\n",
    "        h = 0.01\n",
    "        arrx = np.arange(-1000, upper, 0.01)\n",
    "        arry = sts.norm.pdf(arrx, mu_sample, sd_sample)\n",
    "        s = 0\n",
    "        for num in range(len(arrx)):\n",
    "            s += abs(h * arry[num])\n",
    "        return s\n",
    "    \n",
    "    def xi_norm(table_norm, mean, sd):\n",
    "        N = sum(table_norm.value)\n",
    "        pract = table_norm.value\n",
    "        xi_test = pd.DataFrame({'pract': table_norm.value})\n",
    "        xi_test[\"theor\"] = 0\n",
    "        for i in range(len(pract)):\n",
    "            xi_test.theor.iloc[i] = N * ((inter_norm(table_norm.upp.iloc[i], mean, sd) - (inter_norm(table_norm.low.iloc[i], mean, sd))))\n",
    "        xi = sum((xi_test.pract - xi_test.theor)**2/xi_test.theor)\n",
    "        print(xi_test)\n",
    "        return xi\n",
    "    print(xi_norm(table, mu_sample, sd_sample) < sts.chi2.ppf(0.95, n_group-2-1))"
   ],
   "metadata": {
    "collapsed": false,
    "ExecuteTime": {
     "end_time": "2023-09-28T00:15:21.085023Z",
     "start_time": "2023-09-28T00:15:21.069751Z"
    }
   },
   "id": "be0956f6df0d0797"
  },
  {
   "cell_type": "code",
   "execution_count": 23,
   "outputs": [
    {
     "name": "stdout",
     "output_type": "stream",
     "text": [
      "   pract      theor\n",
      "0      9   6.448096\n",
      "1     17  16.087509\n",
      "2     29  27.170679\n",
      "3     27  31.034044\n",
      "4     21  23.973629\n",
      "5     17  12.523511\n",
      "6      5   4.427673\n",
      "True\n"
     ]
    }
   ],
   "source": [
    "distribution_test(df1['bmi'])"
   ],
   "metadata": {
    "collapsed": false,
    "ExecuteTime": {
     "end_time": "2023-09-28T00:15:21.773573Z",
     "start_time": "2023-09-28T00:15:21.385593Z"
    }
   },
   "id": "a6c226b1fbcfedfc"
  },
  {
   "cell_type": "code",
   "execution_count": 24,
   "outputs": [
    {
     "name": "stdout",
     "output_type": "stream",
     "text": [
      "   pract       theor\n",
      "0    312  120.906152\n",
      "1    236  156.386737\n",
      "2     75  155.175271\n",
      "3     53  118.117875\n",
      "4     20   68.970272\n",
      "5     30   30.890222\n",
      "6     37   10.610631\n",
      "7     16    2.794793\n",
      "8      1    0.564373\n",
      "9      4    0.087356\n",
      "False\n"
     ]
    }
   ],
   "source": [
    "distribution_test(df1['charges'])"
   ],
   "metadata": {
    "collapsed": false,
    "ExecuteTime": {
     "end_time": "2023-09-28T00:15:39.178454Z",
     "start_time": "2023-09-28T00:15:21.774861Z"
    }
   },
   "id": "18d8b7eb053568ff"
  },
  {
   "cell_type": "markdown",
   "source": [
    "# №9\n",
    "**Загрузить данные из файла “ECDCCases.csv”.**"
   ],
   "metadata": {
    "collapsed": false
   },
   "id": "7ccd6797323121b0"
  },
  {
   "cell_type": "code",
   "execution_count": 25,
   "outputs": [],
   "source": [
    "df2 = pd.read_csv('/Users/katy/Documents/Mirea/7 сем/Бигдата/ПР3/ECDCCases.csv')"
   ],
   "metadata": {
    "collapsed": false,
    "ExecuteTime": {
     "end_time": "2023-09-28T00:15:39.252936Z",
     "start_time": "2023-09-28T00:15:39.181357Z"
    }
   },
   "id": "bf969bb74bd23414"
  },
  {
   "cell_type": "markdown",
   "source": [
    "# №10\n",
    "**Проверить в данных наличие пропущенных значений. Вывести количество пропущенных значений в процентах. Удалить два признака, в которых больше всех пропущенных значений. Для оставшихся признаков обработать пропуски: для категориального признака использовать заполнение значением по умолчанию (например, «other»), для числового признака использовать заполнение медианным значением. Показать, что пропусков больше в данных нет.**"
   ],
   "metadata": {
    "collapsed": false
   },
   "id": "76992a9da79887cf"
  },
  {
   "cell_type": "code",
   "execution_count": 26,
   "outputs": [
    {
     "data": {
      "text/plain": "dateRep                                                          0\nday                                                              0\nmonth                                                            0\nyear                                                             0\ncases                                                            0\ndeaths                                                           0\ncountriesAndTerritories                                          0\ngeoId                                                          275\ncountryterritoryCode                                           123\npopData2019                                                    123\ncontinentExp                                                     0\nCumulative_number_for_14_days_of_COVID-19_cases_per_100000    2879\ndtype: int64"
     },
     "execution_count": 26,
     "metadata": {},
     "output_type": "execute_result"
    }
   ],
   "source": [
    "df2.isna().sum()"
   ],
   "metadata": {
    "collapsed": false,
    "ExecuteTime": {
     "end_time": "2023-09-28T00:15:42.065365Z",
     "start_time": "2023-09-28T00:15:42.002985Z"
    }
   },
   "id": "c37c171eef4afc2f"
  },
  {
   "cell_type": "markdown",
   "source": [
    "##### Количество пропущенных значений в процентах"
   ],
   "metadata": {
    "collapsed": false
   },
   "id": "3d8b71efa7da67b9"
  },
  {
   "cell_type": "code",
   "execution_count": 27,
   "outputs": [
    {
     "data": {
      "text/plain": "dateRep                                                       0.000000\nday                                                           0.000000\nmonth                                                         0.000000\nyear                                                          0.000000\ncases                                                         0.000000\ndeaths                                                        0.000000\ncountriesAndTerritories                                       0.000000\ngeoId                                                         0.444236\ncountryterritoryCode                                          0.198695\npopData2019                                                   0.198695\ncontinentExp                                                  0.000000\nCumulative_number_for_14_days_of_COVID-19_cases_per_100000    4.650750\ndtype: float64"
     },
     "execution_count": 27,
     "metadata": {},
     "output_type": "execute_result"
    }
   ],
   "source": [
    "df2.isnull().sum () / len(df2)*100"
   ],
   "metadata": {
    "collapsed": false,
    "ExecuteTime": {
     "end_time": "2023-09-28T00:15:42.995499Z",
     "start_time": "2023-09-28T00:15:42.948882Z"
    }
   },
   "id": "f2f3de5d7b77140c"
  },
  {
   "cell_type": "markdown",
   "source": [
    "##### Удалить два признака, в которых больше всех пропущенных значений."
   ],
   "metadata": {
    "collapsed": false
   },
   "id": "e12505a35d4b2842"
  },
  {
   "cell_type": "code",
   "execution_count": 28,
   "outputs": [],
   "source": [
    "df2 = df2.drop(['geoId', 'Cumulative_number_for_14_days_of_COVID-19_cases_per_100000'], axis= 1)"
   ],
   "metadata": {
    "collapsed": false,
    "ExecuteTime": {
     "end_time": "2023-09-28T00:15:43.668379Z",
     "start_time": "2023-09-28T00:15:43.655799Z"
    }
   },
   "id": "a8d503b78c057143"
  },
  {
   "cell_type": "markdown",
   "source": [
    "##### Заполним пропуски в оставшихся столбцах."
   ],
   "metadata": {
    "collapsed": false
   },
   "id": "a771e583f10246dd"
  },
  {
   "cell_type": "code",
   "execution_count": 29,
   "outputs": [],
   "source": [
    "df2 = df2.fillna({'popData2019':df2['popData2019'].mean(), 'countryterritoryCode':'Other'})"
   ],
   "metadata": {
    "collapsed": false,
    "ExecuteTime": {
     "end_time": "2023-09-28T00:15:44.606728Z",
     "start_time": "2023-09-28T00:15:44.592133Z"
    }
   },
   "id": "3e1b3a1c058ee282"
  },
  {
   "cell_type": "code",
   "execution_count": 30,
   "outputs": [
    {
     "data": {
      "text/plain": "dateRep                    0\nday                        0\nmonth                      0\nyear                       0\ncases                      0\ndeaths                     0\ncountriesAndTerritories    0\ncountryterritoryCode       0\npopData2019                0\ncontinentExp               0\ndtype: int64"
     },
     "execution_count": 30,
     "metadata": {},
     "output_type": "execute_result"
    }
   ],
   "source": [
    "df2.isna().sum()"
   ],
   "metadata": {
    "collapsed": false,
    "ExecuteTime": {
     "end_time": "2023-09-28T00:15:45.041394Z",
     "start_time": "2023-09-28T00:15:44.999156Z"
    }
   },
   "id": "7f3bdf565569f1c5"
  },
  {
   "cell_type": "markdown",
   "source": [
    "Пропусков больше нет."
   ],
   "metadata": {
    "collapsed": false
   },
   "id": "d4c126541409fc20"
  },
  {
   "cell_type": "markdown",
   "source": [
    "# №11\n",
    "**Посмотреть статистику по данным, используя describe(). Сделать выводы о том, какие признаки содержат выбросы. Посмотреть, для каких стран количество смертей в день превысило 3000 и сколько таких дней было.**"
   ],
   "metadata": {
    "collapsed": false
   },
   "id": "9dfb0fe41c301065"
  },
  {
   "cell_type": "code",
   "execution_count": 31,
   "outputs": [
    {
     "data": {
      "text/plain": "                day         month          year          cases        deaths  \\\ncount  61904.000000  61904.000000  61904.000000   61904.000000  61904.000000   \nmean      15.629232      7.067104   2019.998918    1155.079026     26.053987   \nstd        8.841624      2.954816      0.032881    6779.010824    131.222948   \nmin        1.000000      1.000000   2019.000000   -8261.000000  -1918.000000   \n25%        8.000000      5.000000   2020.000000       0.000000      0.000000   \n50%       15.000000      7.000000   2020.000000      15.000000      0.000000   \n75%       23.000000     10.000000   2020.000000     273.000000      4.000000   \nmax       31.000000     12.000000   2020.000000  234633.000000   4928.000000   \n\n        popData2019  \ncount  6.190400e+04  \nmean   4.098628e+07  \nstd    1.529724e+08  \nmin    8.150000e+02  \n25%    1.324820e+06  \n50%    7.813207e+06  \n75%    2.860872e+07  \nmax    1.433784e+09  ",
      "text/html": "<div>\n<style scoped>\n    .dataframe tbody tr th:only-of-type {\n        vertical-align: middle;\n    }\n\n    .dataframe tbody tr th {\n        vertical-align: top;\n    }\n\n    .dataframe thead th {\n        text-align: right;\n    }\n</style>\n<table border=\"1\" class=\"dataframe\">\n  <thead>\n    <tr style=\"text-align: right;\">\n      <th></th>\n      <th>day</th>\n      <th>month</th>\n      <th>year</th>\n      <th>cases</th>\n      <th>deaths</th>\n      <th>popData2019</th>\n    </tr>\n  </thead>\n  <tbody>\n    <tr>\n      <th>count</th>\n      <td>61904.000000</td>\n      <td>61904.000000</td>\n      <td>61904.000000</td>\n      <td>61904.000000</td>\n      <td>61904.000000</td>\n      <td>6.190400e+04</td>\n    </tr>\n    <tr>\n      <th>mean</th>\n      <td>15.629232</td>\n      <td>7.067104</td>\n      <td>2019.998918</td>\n      <td>1155.079026</td>\n      <td>26.053987</td>\n      <td>4.098628e+07</td>\n    </tr>\n    <tr>\n      <th>std</th>\n      <td>8.841624</td>\n      <td>2.954816</td>\n      <td>0.032881</td>\n      <td>6779.010824</td>\n      <td>131.222948</td>\n      <td>1.529724e+08</td>\n    </tr>\n    <tr>\n      <th>min</th>\n      <td>1.000000</td>\n      <td>1.000000</td>\n      <td>2019.000000</td>\n      <td>-8261.000000</td>\n      <td>-1918.000000</td>\n      <td>8.150000e+02</td>\n    </tr>\n    <tr>\n      <th>25%</th>\n      <td>8.000000</td>\n      <td>5.000000</td>\n      <td>2020.000000</td>\n      <td>0.000000</td>\n      <td>0.000000</td>\n      <td>1.324820e+06</td>\n    </tr>\n    <tr>\n      <th>50%</th>\n      <td>15.000000</td>\n      <td>7.000000</td>\n      <td>2020.000000</td>\n      <td>15.000000</td>\n      <td>0.000000</td>\n      <td>7.813207e+06</td>\n    </tr>\n    <tr>\n      <th>75%</th>\n      <td>23.000000</td>\n      <td>10.000000</td>\n      <td>2020.000000</td>\n      <td>273.000000</td>\n      <td>4.000000</td>\n      <td>2.860872e+07</td>\n    </tr>\n    <tr>\n      <th>max</th>\n      <td>31.000000</td>\n      <td>12.000000</td>\n      <td>2020.000000</td>\n      <td>234633.000000</td>\n      <td>4928.000000</td>\n      <td>1.433784e+09</td>\n    </tr>\n  </tbody>\n</table>\n</div>"
     },
     "execution_count": 31,
     "metadata": {},
     "output_type": "execute_result"
    }
   ],
   "source": [
    "emissions = df2.describe()\n",
    "emissions"
   ],
   "metadata": {
    "collapsed": false,
    "ExecuteTime": {
     "end_time": "2023-09-28T00:15:46.277775Z",
     "start_time": "2023-09-28T00:15:46.233181Z"
    }
   },
   "id": "571f8b0f733e0c9c"
  },
  {
   "cell_type": "markdown",
   "source": [
    "По полученной статистике, можно узнать какие признаки содержат выбросы. Будем считать значения за пределами диапазона (Q1 - 1.5 * IQR, Q3 + 1.5 * IQR) как выбросы.\n"
   ],
   "metadata": {
    "collapsed": false
   },
   "id": "71188e24d8352d9b"
  },
  {
   "cell_type": "code",
   "execution_count": 32,
   "outputs": [],
   "source": [
    "def find_emissions(data, column_name):\n",
    "    Q1 = data[column_name].quantile(0.25)\n",
    "    Q3 = df2[column_name].quantile(0.75)\n",
    "    IQR = Q3 - Q1\n",
    "    low = Q1 - 1.5 * IQR\n",
    "    upp = Q3 + 1.5 * IQR\n",
    "    emissions_values = data[(data[column_name] < low) | (data[column_name] > upp)]\n",
    "    num_emissions = len(emissions_values)\n",
    "    print(F'Интервал: ({low}, {upp})')\n",
    "    print(\"Количество выбросов:\", num_emissions)"
   ],
   "metadata": {
    "collapsed": false,
    "ExecuteTime": {
     "end_time": "2023-09-28T00:15:47.144396Z",
     "start_time": "2023-09-28T00:15:47.137416Z"
    }
   },
   "id": "117a6e7e69bcd77a"
  },
  {
   "cell_type": "code",
   "execution_count": 33,
   "outputs": [
    {
     "name": "stdout",
     "output_type": "stream",
     "text": [
      "Интервал: (-14.5, 45.5)\n",
      "Количество выбросов: 0\n"
     ]
    }
   ],
   "source": [
    "find_emissions(df2, 'day')"
   ],
   "metadata": {
    "collapsed": false,
    "ExecuteTime": {
     "end_time": "2023-09-28T00:15:47.578955Z",
     "start_time": "2023-09-28T00:15:47.561395Z"
    }
   },
   "id": "3abbdd06c12f6231"
  },
  {
   "cell_type": "code",
   "execution_count": 34,
   "outputs": [
    {
     "name": "stdout",
     "output_type": "stream",
     "text": [
      "Интервал: (-2.5, 17.5)\n",
      "Количество выбросов: 0\n"
     ]
    }
   ],
   "source": [
    "find_emissions(df2, 'month')"
   ],
   "metadata": {
    "collapsed": false,
    "ExecuteTime": {
     "end_time": "2023-09-28T00:15:48.209730Z",
     "start_time": "2023-09-28T00:15:48.202696Z"
    }
   },
   "id": "230ba0f406204d22"
  },
  {
   "cell_type": "code",
   "execution_count": 35,
   "outputs": [
    {
     "name": "stdout",
     "output_type": "stream",
     "text": [
      "Интервал: (2020.0, 2020.0)\n",
      "Количество выбросов: 67\n"
     ]
    }
   ],
   "source": [
    "find_emissions(df2, 'year')"
   ],
   "metadata": {
    "collapsed": false,
    "ExecuteTime": {
     "end_time": "2023-09-28T00:15:48.449274Z",
     "start_time": "2023-09-28T00:15:48.432914Z"
    }
   },
   "id": "45c4ae585b26ecc6"
  },
  {
   "cell_type": "code",
   "execution_count": 36,
   "outputs": [
    {
     "name": "stdout",
     "output_type": "stream",
     "text": [
      "Интервал: (-409.5, 682.5)\n",
      "Количество выбросов: 10080\n"
     ]
    }
   ],
   "source": [
    "find_emissions(df2, 'cases')"
   ],
   "metadata": {
    "collapsed": false,
    "ExecuteTime": {
     "end_time": "2023-09-28T00:15:48.725007Z",
     "start_time": "2023-09-28T00:15:48.705902Z"
    }
   },
   "id": "181fc58e3cf64f51"
  },
  {
   "cell_type": "code",
   "execution_count": 37,
   "outputs": [
    {
     "name": "stdout",
     "output_type": "stream",
     "text": [
      "Интервал: (-6.0, 10.0)\n",
      "Количество выбросов: 10657\n"
     ]
    }
   ],
   "source": [
    "find_emissions(df2, 'deaths')"
   ],
   "metadata": {
    "collapsed": false,
    "ExecuteTime": {
     "end_time": "2023-09-28T00:15:48.996442Z",
     "start_time": "2023-09-28T00:15:48.988258Z"
    }
   },
   "id": "d56561127dfe8e6f"
  },
  {
   "cell_type": "code",
   "execution_count": 38,
   "outputs": [
    {
     "name": "stdout",
     "output_type": "stream",
     "text": [
      "Интервал: (-39601022.5, 69534557.5)\n",
      "Количество выбросов: 6661\n"
     ]
    }
   ],
   "source": [
    "find_emissions(df2, 'popData2019')"
   ],
   "metadata": {
    "collapsed": false,
    "ExecuteTime": {
     "end_time": "2023-09-28T00:15:49.451098Z",
     "start_time": "2023-09-28T00:15:49.424021Z"
    }
   },
   "id": "5a386cba9a355d7"
  },
  {
   "cell_type": "markdown",
   "source": [
    "Видим, что выбросы есть в нескольких признаках: year, cases, deaths и popData2019."
   ],
   "metadata": {
    "collapsed": false
   },
   "id": "505e57d048714ab6"
  },
  {
   "cell_type": "markdown",
   "source": [
    "##### Страны, для который количество смертей в день превысило 3000 и количество таких дней."
   ],
   "metadata": {
    "collapsed": false
   },
   "id": "b97fe7795a4deb"
  },
  {
   "cell_type": "code",
   "execution_count": 39,
   "outputs": [
    {
     "data": {
      "text/plain": "                      day\ncountryterritoryCode     \nARG                     1\nECU                     1\nMEX                     1\nPER                     2\nUSA                     6",
      "text/html": "<div>\n<style scoped>\n    .dataframe tbody tr th:only-of-type {\n        vertical-align: middle;\n    }\n\n    .dataframe tbody tr th {\n        vertical-align: top;\n    }\n\n    .dataframe thead th {\n        text-align: right;\n    }\n</style>\n<table border=\"1\" class=\"dataframe\">\n  <thead>\n    <tr style=\"text-align: right;\">\n      <th></th>\n      <th>day</th>\n    </tr>\n    <tr>\n      <th>countryterritoryCode</th>\n      <th></th>\n    </tr>\n  </thead>\n  <tbody>\n    <tr>\n      <th>ARG</th>\n      <td>1</td>\n    </tr>\n    <tr>\n      <th>ECU</th>\n      <td>1</td>\n    </tr>\n    <tr>\n      <th>MEX</th>\n      <td>1</td>\n    </tr>\n    <tr>\n      <th>PER</th>\n      <td>2</td>\n    </tr>\n    <tr>\n      <th>USA</th>\n      <td>6</td>\n    </tr>\n  </tbody>\n</table>\n</div>"
     },
     "execution_count": 39,
     "metadata": {},
     "output_type": "execute_result"
    }
   ],
   "source": [
    "df2_deaths = df2[df2['deaths'] >= 3000][['countryterritoryCode', 'day']]\n",
    "df2_gr = df2_deaths.groupby(['countryterritoryCode']).count()\n",
    "df2_gr"
   ],
   "metadata": {
    "collapsed": false,
    "ExecuteTime": {
     "end_time": "2023-09-28T00:15:50.866451Z",
     "start_time": "2023-09-28T00:15:50.854202Z"
    }
   },
   "id": "512c3018d9cd418b"
  },
  {
   "cell_type": "markdown",
   "source": [
    "# №12\n",
    "**Найти дублирование данных. Удалить дубликаты.**"
   ],
   "metadata": {
    "collapsed": false
   },
   "id": "4d7a89d6231135aa"
  },
  {
   "cell_type": "code",
   "execution_count": 40,
   "outputs": [
    {
     "data": {
      "text/plain": "          dateRep  day  month  year  cases  deaths countriesAndTerritories  \\\n3      12/12/2020   12     12  2020    113      11             Afghanistan   \n218    12/05/2020   12      5  2020    285       2             Afghanistan   \n48010  29/05/2020   29      5  2020      0       0             Saint_Lucia   \n48073  28/03/2020   28      3  2020      0       0             Saint_Lucia   \n\n      countryterritoryCode  popData2019 continentExp  \n3                      AFG   38041757.0         Asia  \n218                    AFG   38041757.0         Asia  \n48010                  LCA     182795.0      America  \n48073                  LCA     182795.0      America  ",
      "text/html": "<div>\n<style scoped>\n    .dataframe tbody tr th:only-of-type {\n        vertical-align: middle;\n    }\n\n    .dataframe tbody tr th {\n        vertical-align: top;\n    }\n\n    .dataframe thead th {\n        text-align: right;\n    }\n</style>\n<table border=\"1\" class=\"dataframe\">\n  <thead>\n    <tr style=\"text-align: right;\">\n      <th></th>\n      <th>dateRep</th>\n      <th>day</th>\n      <th>month</th>\n      <th>year</th>\n      <th>cases</th>\n      <th>deaths</th>\n      <th>countriesAndTerritories</th>\n      <th>countryterritoryCode</th>\n      <th>popData2019</th>\n      <th>continentExp</th>\n    </tr>\n  </thead>\n  <tbody>\n    <tr>\n      <th>3</th>\n      <td>12/12/2020</td>\n      <td>12</td>\n      <td>12</td>\n      <td>2020</td>\n      <td>113</td>\n      <td>11</td>\n      <td>Afghanistan</td>\n      <td>AFG</td>\n      <td>38041757.0</td>\n      <td>Asia</td>\n    </tr>\n    <tr>\n      <th>218</th>\n      <td>12/05/2020</td>\n      <td>12</td>\n      <td>5</td>\n      <td>2020</td>\n      <td>285</td>\n      <td>2</td>\n      <td>Afghanistan</td>\n      <td>AFG</td>\n      <td>38041757.0</td>\n      <td>Asia</td>\n    </tr>\n    <tr>\n      <th>48010</th>\n      <td>29/05/2020</td>\n      <td>29</td>\n      <td>5</td>\n      <td>2020</td>\n      <td>0</td>\n      <td>0</td>\n      <td>Saint_Lucia</td>\n      <td>LCA</td>\n      <td>182795.0</td>\n      <td>America</td>\n    </tr>\n    <tr>\n      <th>48073</th>\n      <td>28/03/2020</td>\n      <td>28</td>\n      <td>3</td>\n      <td>2020</td>\n      <td>0</td>\n      <td>0</td>\n      <td>Saint_Lucia</td>\n      <td>LCA</td>\n      <td>182795.0</td>\n      <td>America</td>\n    </tr>\n  </tbody>\n</table>\n</div>"
     },
     "execution_count": 40,
     "metadata": {},
     "output_type": "execute_result"
    }
   ],
   "source": [
    "df2_duplicate = df2[df2.duplicated ()]\n",
    "df2_duplicate"
   ],
   "metadata": {
    "collapsed": false,
    "ExecuteTime": {
     "end_time": "2023-09-28T00:15:51.553558Z",
     "start_time": "2023-09-28T00:15:51.509925Z"
    }
   },
   "id": "3183225e82419a2d"
  },
  {
   "cell_type": "code",
   "execution_count": 41,
   "outputs": [
    {
     "data": {
      "text/plain": "          dateRep  day  month  year  cases  deaths countriesAndTerritories  \\\n0      14/12/2020   14     12  2020    746       6             Afghanistan   \n1      13/12/2020   13     12  2020    298       9             Afghanistan   \n2      12/12/2020   12     12  2020    113      11             Afghanistan   \n4      11/12/2020   11     12  2020     63      10             Afghanistan   \n5      10/12/2020   10     12  2020    202      16             Afghanistan   \n...           ...  ...    ...   ...    ...     ...                     ...   \n61899  25/03/2020   25      3  2020      0       0                Zimbabwe   \n61900  24/03/2020   24      3  2020      0       1                Zimbabwe   \n61901  23/03/2020   23      3  2020      0       0                Zimbabwe   \n61902  22/03/2020   22      3  2020      1       0                Zimbabwe   \n61903  21/03/2020   21      3  2020      1       0                Zimbabwe   \n\n      countryterritoryCode  popData2019 continentExp  \n0                      AFG   38041757.0         Asia  \n1                      AFG   38041757.0         Asia  \n2                      AFG   38041757.0         Asia  \n4                      AFG   38041757.0         Asia  \n5                      AFG   38041757.0         Asia  \n...                    ...          ...          ...  \n61899                  ZWE   14645473.0       Africa  \n61900                  ZWE   14645473.0       Africa  \n61901                  ZWE   14645473.0       Africa  \n61902                  ZWE   14645473.0       Africa  \n61903                  ZWE   14645473.0       Africa  \n\n[61900 rows x 10 columns]",
      "text/html": "<div>\n<style scoped>\n    .dataframe tbody tr th:only-of-type {\n        vertical-align: middle;\n    }\n\n    .dataframe tbody tr th {\n        vertical-align: top;\n    }\n\n    .dataframe thead th {\n        text-align: right;\n    }\n</style>\n<table border=\"1\" class=\"dataframe\">\n  <thead>\n    <tr style=\"text-align: right;\">\n      <th></th>\n      <th>dateRep</th>\n      <th>day</th>\n      <th>month</th>\n      <th>year</th>\n      <th>cases</th>\n      <th>deaths</th>\n      <th>countriesAndTerritories</th>\n      <th>countryterritoryCode</th>\n      <th>popData2019</th>\n      <th>continentExp</th>\n    </tr>\n  </thead>\n  <tbody>\n    <tr>\n      <th>0</th>\n      <td>14/12/2020</td>\n      <td>14</td>\n      <td>12</td>\n      <td>2020</td>\n      <td>746</td>\n      <td>6</td>\n      <td>Afghanistan</td>\n      <td>AFG</td>\n      <td>38041757.0</td>\n      <td>Asia</td>\n    </tr>\n    <tr>\n      <th>1</th>\n      <td>13/12/2020</td>\n      <td>13</td>\n      <td>12</td>\n      <td>2020</td>\n      <td>298</td>\n      <td>9</td>\n      <td>Afghanistan</td>\n      <td>AFG</td>\n      <td>38041757.0</td>\n      <td>Asia</td>\n    </tr>\n    <tr>\n      <th>2</th>\n      <td>12/12/2020</td>\n      <td>12</td>\n      <td>12</td>\n      <td>2020</td>\n      <td>113</td>\n      <td>11</td>\n      <td>Afghanistan</td>\n      <td>AFG</td>\n      <td>38041757.0</td>\n      <td>Asia</td>\n    </tr>\n    <tr>\n      <th>4</th>\n      <td>11/12/2020</td>\n      <td>11</td>\n      <td>12</td>\n      <td>2020</td>\n      <td>63</td>\n      <td>10</td>\n      <td>Afghanistan</td>\n      <td>AFG</td>\n      <td>38041757.0</td>\n      <td>Asia</td>\n    </tr>\n    <tr>\n      <th>5</th>\n      <td>10/12/2020</td>\n      <td>10</td>\n      <td>12</td>\n      <td>2020</td>\n      <td>202</td>\n      <td>16</td>\n      <td>Afghanistan</td>\n      <td>AFG</td>\n      <td>38041757.0</td>\n      <td>Asia</td>\n    </tr>\n    <tr>\n      <th>...</th>\n      <td>...</td>\n      <td>...</td>\n      <td>...</td>\n      <td>...</td>\n      <td>...</td>\n      <td>...</td>\n      <td>...</td>\n      <td>...</td>\n      <td>...</td>\n      <td>...</td>\n    </tr>\n    <tr>\n      <th>61899</th>\n      <td>25/03/2020</td>\n      <td>25</td>\n      <td>3</td>\n      <td>2020</td>\n      <td>0</td>\n      <td>0</td>\n      <td>Zimbabwe</td>\n      <td>ZWE</td>\n      <td>14645473.0</td>\n      <td>Africa</td>\n    </tr>\n    <tr>\n      <th>61900</th>\n      <td>24/03/2020</td>\n      <td>24</td>\n      <td>3</td>\n      <td>2020</td>\n      <td>0</td>\n      <td>1</td>\n      <td>Zimbabwe</td>\n      <td>ZWE</td>\n      <td>14645473.0</td>\n      <td>Africa</td>\n    </tr>\n    <tr>\n      <th>61901</th>\n      <td>23/03/2020</td>\n      <td>23</td>\n      <td>3</td>\n      <td>2020</td>\n      <td>0</td>\n      <td>0</td>\n      <td>Zimbabwe</td>\n      <td>ZWE</td>\n      <td>14645473.0</td>\n      <td>Africa</td>\n    </tr>\n    <tr>\n      <th>61902</th>\n      <td>22/03/2020</td>\n      <td>22</td>\n      <td>3</td>\n      <td>2020</td>\n      <td>1</td>\n      <td>0</td>\n      <td>Zimbabwe</td>\n      <td>ZWE</td>\n      <td>14645473.0</td>\n      <td>Africa</td>\n    </tr>\n    <tr>\n      <th>61903</th>\n      <td>21/03/2020</td>\n      <td>21</td>\n      <td>3</td>\n      <td>2020</td>\n      <td>1</td>\n      <td>0</td>\n      <td>Zimbabwe</td>\n      <td>ZWE</td>\n      <td>14645473.0</td>\n      <td>Africa</td>\n    </tr>\n  </tbody>\n</table>\n<p>61900 rows × 10 columns</p>\n</div>"
     },
     "execution_count": 41,
     "metadata": {},
     "output_type": "execute_result"
    }
   ],
   "source": [
    "df2.drop_duplicates()"
   ],
   "metadata": {
    "collapsed": false,
    "ExecuteTime": {
     "end_time": "2023-09-28T00:15:51.848450Z",
     "start_time": "2023-09-28T00:15:51.811928Z"
    }
   },
   "id": "dd033c1c608d5368"
  },
  {
   "cell_type": "markdown",
   "source": [
    "# №13\n",
    "**Загрузить данные из файла “bmi.csv”. Взять оттуда две выборки. Одна выборка – это индекс массы тела людей c региона northwest, вторая  выборка – это индекс массы тела людей с региона southwest. Сравнить средние значения этих выборок, используя t-критерий Стьюдента. Предварительно проверить выборки на нормальность (критерий ШопироУилка) и на гомогенность дисперсии (критерий Бартлетта).**"
   ],
   "metadata": {
    "collapsed": false
   },
   "id": "5ee87c6fa0d382f2"
  },
  {
   "cell_type": "code",
   "execution_count": 42,
   "outputs": [],
   "source": [
    "df3 = pd.read_csv('/Users/katy/Documents/Mirea/7 сем/Бигдата/ПР3/bmi.csv')"
   ],
   "metadata": {
    "collapsed": false,
    "ExecuteTime": {
     "end_time": "2023-09-28T00:15:52.608347Z",
     "start_time": "2023-09-28T00:15:52.594644Z"
    }
   },
   "id": "9605b30c1bd7551"
  },
  {
   "cell_type": "markdown",
   "source": [
    "##### Две выборки: \n",
    "\n",
    "Размер выборок n = 250"
   ],
   "metadata": {
    "collapsed": false
   },
   "id": "6a1a9340c3b719e5"
  },
  {
   "cell_type": "code",
   "execution_count": 43,
   "outputs": [],
   "source": [
    "sample1 = df3[df3['region'] == 'northwest']['bmi'].sample(n= 250).to_frame()\n",
    "sample2 = df3[df3['region'] == 'southwest']['bmi'].sample(n= 250).to_frame()"
   ],
   "metadata": {
    "collapsed": false,
    "ExecuteTime": {
     "end_time": "2023-09-28T00:15:53.388447Z",
     "start_time": "2023-09-28T00:15:53.359098Z"
    }
   },
   "id": "20cb0cf41c1b0631"
  },
  {
   "cell_type": "markdown",
   "source": [
    "##### Проверка выборок на нормальность критерием Шапиро-Уилка."
   ],
   "metadata": {
    "collapsed": false
   },
   "id": "d38c69d60e19760c"
  },
  {
   "cell_type": "markdown",
   "source": [
    "H0 - Выборка имеет нормальное распределение.\n",
    "H1 - Не имеет."
   ],
   "metadata": {
    "collapsed": false
   },
   "id": "4956ad76036bbba9"
  },
  {
   "cell_type": "code",
   "execution_count": 44,
   "outputs": [
    {
     "name": "stdout",
     "output_type": "stream",
     "text": [
      "Статистика критерия:  0.9936574697494507\n",
      "p-value:  0.3722914457321167\n",
      "Не отвергаем нулевую гипотезу: Выборка имеет нормальное распределение. \n"
     ]
    }
   ],
   "source": [
    "shapiro_stat, p_value = sts.shapiro(sample1)\n",
    "print('Статистика критерия: ', shapiro_stat)\n",
    "print('p-value: ', p_value)\n",
    "\n",
    "if p_value < 0.05:\n",
    "    print('Отвергаем нулевую гипотезу: Выборка не имеет нормального распределения.')\n",
    "else:\n",
    "    print('Не отвергаем нулевую гипотезу: Выборка имеет нормальное распределение. ')"
   ],
   "metadata": {
    "collapsed": false,
    "ExecuteTime": {
     "end_time": "2023-09-28T00:15:54.302385Z",
     "start_time": "2023-09-28T00:15:54.280752Z"
    }
   },
   "id": "bd4b38b5ff6681b"
  },
  {
   "cell_type": "code",
   "execution_count": 45,
   "outputs": [
    {
     "name": "stdout",
     "output_type": "stream",
     "text": [
      "Статистика критерия:  0.995595395565033\n",
      "p-value:  0.6993665099143982\n",
      "Не отвергаем нулевую гипотезу: Выборка имеет нормальное распределение. \n"
     ]
    }
   ],
   "source": [
    "shapiro_stat, p_value = sts.shapiro(sample2)\n",
    "print('Статистика критерия: ', shapiro_stat)\n",
    "print('p-value: ', p_value)\n",
    "\n",
    "if p_value < 0.05:\n",
    "    print('Отвергаем нулевую гипотезу: Выборка не имеет нормального распределения.')\n",
    "else:\n",
    "    print('Не отвергаем нулевую гипотезу: Выборка имеет нормальное распределение. ')"
   ],
   "metadata": {
    "collapsed": false,
    "ExecuteTime": {
     "end_time": "2023-09-28T00:15:54.578222Z",
     "start_time": "2023-09-28T00:15:54.547205Z"
    }
   },
   "id": "98c15bf8bd3b5a0f"
  },
  {
   "cell_type": "markdown",
   "source": [
    "Обе выборки распределены нормально."
   ],
   "metadata": {
    "collapsed": false
   },
   "id": "5424dca671167a5f"
  },
  {
   "cell_type": "markdown",
   "source": [
    "##### Проверка выборов на гомогенность дисперсии (критерий Бартлетта)."
   ],
   "metadata": {
    "collapsed": false
   },
   "id": "28691a0554ce3493"
  },
  {
   "cell_type": "markdown",
   "source": [
    "H0 - Диспресии двух независимых выборок одинаковы.\n",
    "H1 - Не одинаковы."
   ],
   "metadata": {
    "collapsed": false
   },
   "id": "8ccabfbca85bd79c"
  },
  {
   "cell_type": "code",
   "execution_count": 46,
   "outputs": [
    {
     "name": "stdout",
     "output_type": "stream",
     "text": [
      "Статистика критерия:  1.1787285421639921\n",
      "p-value:  0.2776149911534663\n",
      "Не отвергаем нулевую гипотезу: Дисперсии выборок равны. \n"
     ]
    }
   ],
   "source": [
    "bartlett_stat, p_value = sts.bartlett(sample1['bmi'], sample2['bmi'])\n",
    "print('Статистика критерия: ', bartlett_stat)\n",
    "print('p-value: ', p_value)\n",
    "\n",
    "if p_value < 0.05:\n",
    "    print('Отвергаем нулевую гипотезу: Дисперсии выборок не равны.')\n",
    "else:\n",
    "    print('Не отвергаем нулевую гипотезу: Дисперсии выборок равны. ')"
   ],
   "metadata": {
    "collapsed": false,
    "ExecuteTime": {
     "end_time": "2023-09-28T00:15:55.968918Z",
     "start_time": "2023-09-28T00:15:55.934489Z"
    }
   },
   "id": "552f4cfa1041649d"
  },
  {
   "cell_type": "markdown",
   "source": [
    "##### Сравнение средних значений выборок с помощью t-критерия Стьюдента.\n"
   ],
   "metadata": {
    "collapsed": false
   },
   "id": "5f258fdc80f7fd5f"
  },
  {
   "cell_type": "markdown",
   "source": [
    "H0 - Средние значения двух независимых выборок равны.\n",
    "H1 - Не равны."
   ],
   "metadata": {
    "collapsed": false
   },
   "id": "1acc9ab843566be5"
  },
  {
   "cell_type": "code",
   "execution_count": 47,
   "outputs": [
    {
     "name": "stdout",
     "output_type": "stream",
     "text": [
      "Статистика критерия: [-2.45500817]\n",
      "p-value:  [0.01442903]\n",
      "Отвергаем нулевую гипотезу: Средние значения двух выборок не равны.\n"
     ]
    }
   ],
   "source": [
    "tt_stat, p_value = sts.ttest_ind(sample1, sample2)\n",
    "print('Статистика критерия:', tt_stat)\n",
    "print('p-value: ', p_value)\n",
    "\n",
    "if p_value < 0.05:\n",
    "    print('Отвергаем нулевую гипотезу: Средние значения двух выборок не равны.')\n",
    "else:\n",
    "    print('Не отвергаем нулевую гипотезу: Средние значения двух выборок равны. ')"
   ],
   "metadata": {
    "collapsed": false,
    "ExecuteTime": {
     "end_time": "2023-09-28T00:15:56.984974Z",
     "start_time": "2023-09-28T00:15:56.947809Z"
    }
   },
   "id": "866c57355d203c7e"
  },
  {
   "cell_type": "markdown",
   "source": [
    "# №14\n",
    "**Кубик бросили 600 раз. С помощью критерия Хи-квадрат проверить, является ли полученное распределение равномерным. Использовать функцию scipy.stats.chisquare().**"
   ],
   "metadata": {
    "collapsed": false
   },
   "id": "60c6d338d10b2da4"
  },
  {
   "cell_type": "code",
   "execution_count": 48,
   "outputs": [
    {
     "name": "stdout",
     "output_type": "stream",
     "text": [
      "Статистика критерия Хи-квадрат:  1.44\n",
      "p-value:  0.9198882077437889\n",
      "Не отвергаем нулевую гипотезу: Распределение равномерное.\n"
     ]
    }
   ],
   "source": [
    "observed = [97, 98, 109, 95, 97, 104]\n",
    "expected = [100, 100, 100, 100, 100, 100]\n",
    "\n",
    "chi2_stat, p_value = sts.chisquare(observed, f_exp=expected)\n",
    "print('Статистика критерия Хи-квадрат: ', chi2_stat)\n",
    "print('p-value: ', p_value)\n",
    "\n",
    "if p_value < 0.05:\n",
    "    print('Отвергаем нулевую гипотезу: Распределение не является равномерным.')\n",
    "else:\n",
    "    print('Не отвергаем нулевую гипотезу: Распределение равномерное.')"
   ],
   "metadata": {
    "collapsed": false,
    "ExecuteTime": {
     "end_time": "2023-09-28T00:15:57.584440Z",
     "start_time": "2023-09-28T00:15:57.547847Z"
    }
   },
   "id": "d4ffcc54d1b2d07b"
  },
  {
   "cell_type": "markdown",
   "source": [
    "# №15\n",
    "**С помощью критерия Хи-квадрат проверить, являются ли переменные зависимыми.**"
   ],
   "metadata": {
    "collapsed": false
   },
   "id": "c1f3b562649e7eaf"
  },
  {
   "cell_type": "code",
   "execution_count": 49,
   "outputs": [],
   "source": [
    "df4 = pd.DataFrame({'Женат': [89,17,11,43,22,1],\n",
    "                     'Гражданский брак': [80,22,20,35,6,4],\n",
    "                     'Не состоит в отношениях': [35,44,35,6,8,22]})\n",
    "df4.index = ['Полный рабочий день','Частичная занятость','Временно не работает','На домохозяйстве','На пенсии','Учёба']"
   ],
   "metadata": {
    "collapsed": false,
    "ExecuteTime": {
     "end_time": "2023-09-28T00:15:58.156168Z",
     "start_time": "2023-09-28T00:15:58.140913Z"
    }
   },
   "id": "4f68a6abf09cdf3c"
  },
  {
   "cell_type": "code",
   "execution_count": 50,
   "outputs": [
    {
     "data": {
      "text/plain": "                      Женат  Гражданский брак  Не состоит в отношениях\nПолный рабочий день      89                80                       35\nЧастичная занятость      17                22                       44\nВременно не работает     11                20                       35\nНа домохозяйстве         43                35                        6\nНа пенсии                22                 6                        8\nУчёба                     1                 4                       22",
      "text/html": "<div>\n<style scoped>\n    .dataframe tbody tr th:only-of-type {\n        vertical-align: middle;\n    }\n\n    .dataframe tbody tr th {\n        vertical-align: top;\n    }\n\n    .dataframe thead th {\n        text-align: right;\n    }\n</style>\n<table border=\"1\" class=\"dataframe\">\n  <thead>\n    <tr style=\"text-align: right;\">\n      <th></th>\n      <th>Женат</th>\n      <th>Гражданский брак</th>\n      <th>Не состоит в отношениях</th>\n    </tr>\n  </thead>\n  <tbody>\n    <tr>\n      <th>Полный рабочий день</th>\n      <td>89</td>\n      <td>80</td>\n      <td>35</td>\n    </tr>\n    <tr>\n      <th>Частичная занятость</th>\n      <td>17</td>\n      <td>22</td>\n      <td>44</td>\n    </tr>\n    <tr>\n      <th>Временно не работает</th>\n      <td>11</td>\n      <td>20</td>\n      <td>35</td>\n    </tr>\n    <tr>\n      <th>На домохозяйстве</th>\n      <td>43</td>\n      <td>35</td>\n      <td>6</td>\n    </tr>\n    <tr>\n      <th>На пенсии</th>\n      <td>22</td>\n      <td>6</td>\n      <td>8</td>\n    </tr>\n    <tr>\n      <th>Учёба</th>\n      <td>1</td>\n      <td>4</td>\n      <td>22</td>\n    </tr>\n  </tbody>\n</table>\n</div>"
     },
     "execution_count": 50,
     "metadata": {},
     "output_type": "execute_result"
    }
   ],
   "source": [
    "df4"
   ],
   "metadata": {
    "collapsed": false,
    "ExecuteTime": {
     "end_time": "2023-09-28T00:15:58.465069Z",
     "start_time": "2023-09-28T00:15:58.446976Z"
    }
   },
   "id": "ff9f19522d0e1672"
  },
  {
   "cell_type": "markdown",
   "source": [
    "H0: Категориальные переменные A и B независимы;\n",
    "H1: Категориальные переменные A и B связаны между собой."
   ],
   "metadata": {
    "collapsed": false
   },
   "id": "f7ce55d7823d276d"
  },
  {
   "cell_type": "code",
   "execution_count": 51,
   "outputs": [
    {
     "name": "stdout",
     "output_type": "stream",
     "text": [
      "Статистика критерия Хи-квадрат:  122.29654948595365\n",
      "p-value:  1.7291616900960234e-21\n",
      "Отвергаем нулевую гипотезу: Семейное положение влияет на занятость.\n"
     ]
    }
   ],
   "source": [
    "chi2_stat, p_value = sts.chi2_contingency(df4)[:2]\n",
    "print('Статистика критерия Хи-квадрат: ', chi2_stat)\n",
    "print('p-value: ', p_value)\n",
    "\n",
    "if p_value < 0.05:\n",
    "    print('Отвергаем нулевую гипотезу: Семейное положение влияет на занятость.')\n",
    "else:\n",
    "    print('Не отвергаем нулевую гипотезу: Семейное положение не влияет на занятость. ')"
   ],
   "metadata": {
    "collapsed": false,
    "ExecuteTime": {
     "end_time": "2023-09-28T00:15:59.010445Z",
     "start_time": "2023-09-28T00:15:58.995181Z"
    }
   },
   "id": "799a19717642d695"
  },
  {
   "cell_type": "code",
   "execution_count": 51,
   "outputs": [],
   "source": [],
   "metadata": {
    "collapsed": false,
    "ExecuteTime": {
     "end_time": "2023-09-28T00:15:59.375893Z",
     "start_time": "2023-09-28T00:15:59.330817Z"
    }
   },
   "id": "2d1eecf1aecea275"
  }
 ],
 "metadata": {
  "kernelspec": {
   "display_name": "Python 3 (ipykernel)",
   "language": "python",
   "name": "python3"
  },
  "language_info": {
   "codemirror_mode": {
    "name": "ipython",
    "version": 3
   },
   "file_extension": ".py",
   "mimetype": "text/x-python",
   "name": "python",
   "nbconvert_exporter": "python",
   "pygments_lexer": "ipython3",
   "version": "3.9.13"
  }
 },
 "nbformat": 4,
 "nbformat_minor": 5
}
