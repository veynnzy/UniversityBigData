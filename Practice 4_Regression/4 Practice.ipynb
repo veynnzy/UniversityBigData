{
 "cells": [
  {
   "cell_type": "markdown",
   "source": [
    "## Библиотеки"
   ],
   "metadata": {
    "collapsed": false
   },
   "id": "8f22fb007064d2ae"
  },
  {
   "cell_type": "code",
   "execution_count": 1,
   "id": "initial_id",
   "metadata": {
    "collapsed": true,
    "ExecuteTime": {
     "end_time": "2023-11-01T12:31:54.107771Z",
     "start_time": "2023-11-01T12:31:46.321175300Z"
    }
   },
   "outputs": [],
   "source": [
    "import pandas as pd\n",
    "import numpy as np\n",
    "import matplotlib.pyplot as plt\n",
    "import seaborn as sns\n",
    "from sklearn import preprocessing\n",
    "from sklearn.linear_model import LinearRegression\n",
    "from sklearn.metrics import mean_squared_error\n",
    "import scipy.stats as st\n",
    "import statsmodels.api as sm\n",
    "from statsmodels.formula.api import ols\n",
    "from statsmodels.stats.multicomp import MultiComparison\n",
    "from statsmodels.stats.multicomp import pairwise_tukeyhsd\n"
   ]
  },
  {
   "cell_type": "code",
   "execution_count": 2,
   "outputs": [
    {
     "data": {
      "text/plain": "0"
     },
     "execution_count": 2,
     "metadata": {},
     "output_type": "execute_result"
    }
   ],
   "source": [
    "import torch\n",
    "torch.cuda.current_device()"
   ],
   "metadata": {
    "collapsed": false,
    "ExecuteTime": {
     "end_time": "2023-11-01T12:32:07.471543400Z",
     "start_time": "2023-11-01T12:32:05.811259900Z"
    }
   },
   "id": "c215be3661f485f5"
  },
  {
   "cell_type": "markdown",
   "source": [
    "## №1\n",
    "\n",
    "#### Определить два вектора, представляющие собой число автомобилей, припаркованных в течении 5 рабочих дней у бизнес-центра на уличной стоянке и в подземном гараже. ####"
   ],
   "metadata": {
    "collapsed": false
   },
   "id": "fad2113b23918ef7"
  },
  {
   "cell_type": "code",
   "execution_count": 3,
   "outputs": [
    {
     "data": {
      "text/plain": "          День  Улица  Гараж\n0  Понедельник     80    100\n1      Вторник     98     82\n2        Среда     75    105\n3      Четверг     91     89\n4      Пятница     78    102",
      "text/html": "<div>\n<style scoped>\n    .dataframe tbody tr th:only-of-type {\n        vertical-align: middle;\n    }\n\n    .dataframe tbody tr th {\n        vertical-align: top;\n    }\n\n    .dataframe thead th {\n        text-align: right;\n    }\n</style>\n<table border=\"1\" class=\"dataframe\">\n  <thead>\n    <tr style=\"text-align: right;\">\n      <th></th>\n      <th>День</th>\n      <th>Улица</th>\n      <th>Гараж</th>\n    </tr>\n  </thead>\n  <tbody>\n    <tr>\n      <th>0</th>\n      <td>Понедельник</td>\n      <td>80</td>\n      <td>100</td>\n    </tr>\n    <tr>\n      <th>1</th>\n      <td>Вторник</td>\n      <td>98</td>\n      <td>82</td>\n    </tr>\n    <tr>\n      <th>2</th>\n      <td>Среда</td>\n      <td>75</td>\n      <td>105</td>\n    </tr>\n    <tr>\n      <th>3</th>\n      <td>Четверг</td>\n      <td>91</td>\n      <td>89</td>\n    </tr>\n    <tr>\n      <th>4</th>\n      <td>Пятница</td>\n      <td>78</td>\n      <td>102</td>\n    </tr>\n  </tbody>\n</table>\n</div>"
     },
     "execution_count": 3,
     "metadata": {},
     "output_type": "execute_result"
    }
   ],
   "source": [
    "df = pd.DataFrame({'День': ['Понедельник', 'Вторник', 'Среда', 'Четверг', 'Пятница'], \n",
    "                   'Улица': [80, 98, 75, 91, 78],\n",
    "                   'Гараж': [100, 82, 105, 89, 102]})\n",
    "df"
   ],
   "metadata": {
    "collapsed": false,
    "ExecuteTime": {
     "end_time": "2023-11-01T12:32:08.158932900Z",
     "start_time": "2023-11-01T12:32:08.136521300Z"
    }
   },
   "id": "489c1142e7e52d0a"
  },
  {
   "cell_type": "code",
   "execution_count": 4,
   "outputs": [],
   "source": [
    "var1 = df['Улица'].to_numpy()\n",
    "var2 = df['Гараж'].to_numpy()"
   ],
   "metadata": {
    "collapsed": false,
    "ExecuteTime": {
     "end_time": "2023-11-01T12:32:08.741469400Z",
     "start_time": "2023-11-01T12:32:08.726445800Z"
    }
   },
   "id": "462a300cb9b43ad8"
  },
  {
   "cell_type": "markdown",
   "source": [
    "## №1.1\n",
    "#### Найти и интерпретировать корреляцию между переменными «Улица» и «Гараж» (подсчитать корреляцию по Пирсону). ####"
   ],
   "metadata": {
    "collapsed": false
   },
   "id": "ef2d1dbaf9edbe63"
  },
  {
   "cell_type": "code",
   "execution_count": 5,
   "outputs": [
    {
     "data": {
      "text/plain": "-0.9999999999999998"
     },
     "execution_count": 5,
     "metadata": {},
     "output_type": "execute_result"
    }
   ],
   "source": [
    "np.corrcoef(var1, var2)[0,1]"
   ],
   "metadata": {
    "collapsed": false,
    "ExecuteTime": {
     "end_time": "2023-11-01T12:32:09.509633600Z",
     "start_time": "2023-11-01T12:32:09.504508500Z"
    }
   },
   "id": "221eaf0c0ec81b35"
  },
  {
   "cell_type": "code",
   "execution_count": 6,
   "outputs": [
    {
     "name": "stdout",
     "output_type": "stream",
     "text": [
      "-1.0\n",
      "0.0\n"
     ]
    }
   ],
   "source": [
    "corr, p_value = st.pearsonr(var1, var2)\n",
    "print(corr)\n",
    "print(p_value)"
   ],
   "metadata": {
    "collapsed": false,
    "ExecuteTime": {
     "end_time": "2023-11-01T12:32:09.897515900Z",
     "start_time": "2023-11-01T12:32:09.864296900Z"
    }
   },
   "id": "6f4cba3edbfe6895"
  },
  {
   "cell_type": "markdown",
   "source": [
    "Коэффициент корреляции практически равен –1, что указывает на полностью обратную линейную зависимость."
   ],
   "metadata": {
    "collapsed": false
   },
   "id": "eff5b021051bfd83"
  },
  {
   "cell_type": "markdown",
   "source": [
    "## №1.2\n",
    "#### Построить диаграмму рассеяния для вышеупомянутых переменных. ####"
   ],
   "metadata": {
    "collapsed": false
   },
   "id": "106259e01c31003f"
  },
  {
   "cell_type": "code",
   "execution_count": 7,
   "outputs": [
    {
     "data": {
      "text/plain": "<Figure size 640x480 with 1 Axes>",
      "image/png": "[encoded data removed]"
     },
     "metadata": {},
     "output_type": "display_data"
    }
   ],
   "source": [
    "sns.scatterplot(x=var1, y=var2, color='r')\n",
    "plt.grid(True)\n",
    "plt.title('Диаграмма рассеивания')\n",
    "plt.xlabel('Улица')\n",
    "plt.ylabel('Гараж')\n",
    "\n",
    "plt.show()"
   ],
   "metadata": {
    "collapsed": false,
    "ExecuteTime": {
     "end_time": "2023-11-01T12:32:11.192702Z",
     "start_time": "2023-11-01T12:32:11.080798400Z"
    }
   },
   "id": "71acfc16a0be650d"
  },
  {
   "cell_type": "markdown",
   "source": [
    "## №2\n",
    "\n",
    "#### Найти и выгрузить данные. Вывести, провести предобработку и описать признаки. ####"
   ],
   "metadata": {
    "collapsed": false
   },
   "id": "fdcac1d16c897eb8"
  },
  {
   "cell_type": "markdown",
   "source": [
    "Набор данных о рекламе отражает доходы от продаж, полученные в связи с расходами на рекламу по нескольким каналам, таким как радио, телевидение и газеты.\n",
    "Признаки:\n",
    "* TV - Затраты на ввод рекламы на телевидении.\n",
    "* Radio - Затраты на ввод рекламы на радио.\n",
    "* Newspaper - Затраты на ввод рекламы в газетах.\n",
    "* Sales - Продажи рекламируемого товара. (target)"
   ],
   "metadata": {
    "collapsed": false
   },
   "id": "39052e3b039f1a77"
  },
  {
   "cell_type": "code",
   "execution_count": 8,
   "outputs": [],
   "source": [
    "df2 = pd.read_csv(\"C:\\\\Users\\Katy\\Documents\\Mirea\\\\7 сем\\Бигдата\\Practice 4_Regression\\Advertising.csv\")"
   ],
   "metadata": {
    "collapsed": false,
    "ExecuteTime": {
     "end_time": "2023-11-01T12:32:36.844870200Z",
     "start_time": "2023-11-01T12:32:36.834241Z"
    }
   },
   "id": "c4fde86d80359518"
  },
  {
   "cell_type": "code",
   "execution_count": 9,
   "outputs": [
    {
     "data": {
      "text/plain": "TV           0\nradio        0\nnewspaper    0\nsales        0\ndtype: int64"
     },
     "execution_count": 9,
     "metadata": {},
     "output_type": "execute_result"
    }
   ],
   "source": [
    "df2.isnull().sum()"
   ],
   "metadata": {
    "collapsed": false,
    "ExecuteTime": {
     "end_time": "2023-11-01T12:32:37.517245600Z",
     "start_time": "2023-11-01T12:32:37.514035100Z"
    }
   },
   "id": "88ce46690f13ee83"
  },
  {
   "cell_type": "code",
   "execution_count": 10,
   "outputs": [
    {
     "data": {
      "text/plain": "0"
     },
     "execution_count": 10,
     "metadata": {},
     "output_type": "execute_result"
    }
   ],
   "source": [
    "df2.duplicated().sum()"
   ],
   "metadata": {
    "collapsed": false,
    "ExecuteTime": {
     "end_time": "2023-11-01T12:32:38.128875100Z",
     "start_time": "2023-11-01T12:32:38.119280100Z"
    }
   },
   "id": "9bdf7bdf21662e5f"
  },
  {
   "cell_type": "markdown",
   "source": [
    "Датафрейм не имеет пропусков и дубликатов, далее посмотрим требуется ли стандартизация данных."
   ],
   "metadata": {
    "collapsed": false
   },
   "id": "9b55a6c65f9b6b21"
  },
  {
   "cell_type": "code",
   "execution_count": 11,
   "outputs": [
    {
     "data": {
      "text/plain": "<Axes: xlabel='sales', ylabel='Count'>"
     },
     "execution_count": 11,
     "metadata": {},
     "output_type": "execute_result"
    },
    {
     "data": {
      "text/plain": "<Figure size 640x480 with 1 Axes>",
      "image/png": "[encoded data removed]"
     },
     "metadata": {},
     "output_type": "display_data"
    }
   ],
   "source": [
    "sns.histplot(df2['sales'], kde= False, color='c')"
   ],
   "metadata": {
    "collapsed": false,
    "ExecuteTime": {
     "end_time": "2023-11-01T12:32:39.421997600Z",
     "start_time": "2023-11-01T12:32:39.295718900Z"
    }
   },
   "id": "742c16aee18f4c0"
  },
  {
   "cell_type": "code",
   "execution_count": 12,
   "outputs": [
    {
     "data": {
      "text/plain": "<Axes: xlabel='TV', ylabel='Count'>"
     },
     "execution_count": 12,
     "metadata": {},
     "output_type": "execute_result"
    },
    {
     "data": {
      "text/plain": "<Figure size 640x480 with 1 Axes>",
      "image/png": "[encoded data removed]"
     },
     "metadata": {},
     "output_type": "display_data"
    }
   ],
   "source": [
    "sns.histplot(df2['TV'], kde= False, color='b')"
   ],
   "metadata": {
    "collapsed": false,
    "ExecuteTime": {
     "end_time": "2023-11-01T12:32:39.973149200Z",
     "start_time": "2023-11-01T12:32:39.862655100Z"
    }
   },
   "id": "a0db1d99a7b3fea2"
  },
  {
   "cell_type": "markdown",
   "source": [
    "Стандартизируем данные."
   ],
   "metadata": {
    "collapsed": false
   },
   "id": "33ac0788c9eaf7e0"
  },
  {
   "cell_type": "code",
   "execution_count": 13,
   "outputs": [
    {
     "data": {
      "text/plain": "           TV     radio  newspaper     sales\n0    0.969852  0.981522   1.778945  1.552053\n1   -1.197376  1.082808   0.669579 -0.696046\n2   -1.516155  1.528463   1.783549 -0.907406\n3    0.052050  1.217855   1.286405  0.860330\n4    0.394182 -0.841614   1.281802 -0.215683\n..        ...       ...        ...       ...\n195 -1.270941 -1.321031  -0.771217 -1.234053\n196 -0.617035 -1.240003  -1.033598 -0.830548\n197  0.349810 -0.942899  -1.111852 -0.234898\n198  1.594565  1.265121   1.640850  2.205347\n199  0.993206 -0.990165  -1.005979 -0.119610\n\n[200 rows x 4 columns]",
      "text/html": "<div>\n<style scoped>\n    .dataframe tbody tr th:only-of-type {\n        vertical-align: middle;\n    }\n\n    .dataframe tbody tr th {\n        vertical-align: top;\n    }\n\n    .dataframe thead th {\n        text-align: right;\n    }\n</style>\n<table border=\"1\" class=\"dataframe\">\n  <thead>\n    <tr style=\"text-align: right;\">\n      <th></th>\n      <th>TV</th>\n      <th>radio</th>\n      <th>newspaper</th>\n      <th>sales</th>\n    </tr>\n  </thead>\n  <tbody>\n    <tr>\n      <th>0</th>\n      <td>0.969852</td>\n      <td>0.981522</td>\n      <td>1.778945</td>\n      <td>1.552053</td>\n    </tr>\n    <tr>\n      <th>1</th>\n      <td>-1.197376</td>\n      <td>1.082808</td>\n      <td>0.669579</td>\n      <td>-0.696046</td>\n    </tr>\n    <tr>\n      <th>2</th>\n      <td>-1.516155</td>\n      <td>1.528463</td>\n      <td>1.783549</td>\n      <td>-0.907406</td>\n    </tr>\n    <tr>\n      <th>3</th>\n      <td>0.052050</td>\n      <td>1.217855</td>\n      <td>1.286405</td>\n      <td>0.860330</td>\n    </tr>\n    <tr>\n      <th>4</th>\n      <td>0.394182</td>\n      <td>-0.841614</td>\n      <td>1.281802</td>\n      <td>-0.215683</td>\n    </tr>\n    <tr>\n      <th>...</th>\n      <td>...</td>\n      <td>...</td>\n      <td>...</td>\n      <td>...</td>\n    </tr>\n    <tr>\n      <th>195</th>\n      <td>-1.270941</td>\n      <td>-1.321031</td>\n      <td>-0.771217</td>\n      <td>-1.234053</td>\n    </tr>\n    <tr>\n      <th>196</th>\n      <td>-0.617035</td>\n      <td>-1.240003</td>\n      <td>-1.033598</td>\n      <td>-0.830548</td>\n    </tr>\n    <tr>\n      <th>197</th>\n      <td>0.349810</td>\n      <td>-0.942899</td>\n      <td>-1.111852</td>\n      <td>-0.234898</td>\n    </tr>\n    <tr>\n      <th>198</th>\n      <td>1.594565</td>\n      <td>1.265121</td>\n      <td>1.640850</td>\n      <td>2.205347</td>\n    </tr>\n    <tr>\n      <th>199</th>\n      <td>0.993206</td>\n      <td>-0.990165</td>\n      <td>-1.005979</td>\n      <td>-0.119610</td>\n    </tr>\n  </tbody>\n</table>\n<p>200 rows × 4 columns</p>\n</div>"
     },
     "execution_count": 13,
     "metadata": {},
     "output_type": "execute_result"
    }
   ],
   "source": [
    "scaler = preprocessing.StandardScaler()\n",
    "col = df2.columns\n",
    "result = scaler.fit_transform(df2)\n",
    "df2 = pd.DataFrame(result, columns=col)\n",
    "df2"
   ],
   "metadata": {
    "collapsed": false,
    "ExecuteTime": {
     "end_time": "2023-11-01T12:32:41.045199400Z",
     "start_time": "2023-11-01T12:32:41.024128200Z"
    }
   },
   "id": "ec4bf27b5a3a3861"
  },
  {
   "cell_type": "markdown",
   "source": [
    "## №2.1\n",
    "\n",
    "#### Построить корреляционную матрицу по одной целевой переменной. Определить наиболее коррелирующую переменную, продолжить с ней работу в следующем пункте. ####"
   ],
   "metadata": {
    "collapsed": false,
    "ExecuteTime": {
     "end_time": "2023-10-17T07:23:22.906487Z",
     "start_time": "2023-10-17T07:23:22.812578Z"
    }
   },
   "id": "8b5df54c165dbc50"
  },
  {
   "cell_type": "code",
   "execution_count": 14,
   "outputs": [
    {
     "data": {
      "text/plain": "              sales\nTV         0.782224\nradio      0.576223\nnewspaper  0.228299\nsales      1.000000",
      "text/html": "<div>\n<style scoped>\n    .dataframe tbody tr th:only-of-type {\n        vertical-align: middle;\n    }\n\n    .dataframe tbody tr th {\n        vertical-align: top;\n    }\n\n    .dataframe thead th {\n        text-align: right;\n    }\n</style>\n<table border=\"1\" class=\"dataframe\">\n  <thead>\n    <tr style=\"text-align: right;\">\n      <th></th>\n      <th>sales</th>\n    </tr>\n  </thead>\n  <tbody>\n    <tr>\n      <th>TV</th>\n      <td>0.782224</td>\n    </tr>\n    <tr>\n      <th>radio</th>\n      <td>0.576223</td>\n    </tr>\n    <tr>\n      <th>newspaper</th>\n      <td>0.228299</td>\n    </tr>\n    <tr>\n      <th>sales</th>\n      <td>1.000000</td>\n    </tr>\n  </tbody>\n</table>\n</div>"
     },
     "execution_count": 14,
     "metadata": {},
     "output_type": "execute_result"
    }
   ],
   "source": [
    "corr_matrix = df2.corr().sales.abs().to_frame()\n",
    "corr_matrix "
   ],
   "metadata": {
    "collapsed": false,
    "ExecuteTime": {
     "end_time": "2023-11-01T12:32:42.265070200Z",
     "start_time": "2023-11-01T12:32:42.262558700Z"
    }
   },
   "id": "f31ce9c44fab2750"
  },
  {
   "cell_type": "code",
   "execution_count": 15,
   "outputs": [
    {
     "data": {
      "text/plain": "<Axes: >"
     },
     "execution_count": 15,
     "metadata": {},
     "output_type": "execute_result"
    },
    {
     "data": {
      "text/plain": "<Figure size 640x480 with 2 Axes>",
      "image/png": "[encoded data removed]"
     },
     "metadata": {},
     "output_type": "display_data"
    }
   ],
   "source": [
    "# plt.figure(figsize=(10, 6))\n",
    "sns.heatmap(round(df2.corr(),2).abs(), annot = True, cmap= 'mako_r')"
   ],
   "metadata": {
    "collapsed": false,
    "ExecuteTime": {
     "end_time": "2023-11-01T12:32:42.865865900Z",
     "start_time": "2023-11-01T12:32:42.747193300Z"
    }
   },
   "id": "9b95857fd06a1efd"
  },
  {
   "cell_type": "markdown",
   "source": [
    "Наиболее коррелируемая переменная - TV."
   ],
   "metadata": {
    "collapsed": false
   },
   "id": "1d1356a53c045b4d"
  },
  {
   "cell_type": "markdown",
   "source": [
    "## №2.2\n",
    "\n",
    "#### Реализовать регрессию вручную, отобразить наклон, сдвиг и MSE. ####"
   ],
   "metadata": {
    "collapsed": false
   },
   "id": "4d37dd2b8570a8e3"
  },
  {
   "cell_type": "code",
   "execution_count": 16,
   "outputs": [],
   "source": [
    "X = df2[['TV']]\n",
    "y = df2['sales']\n",
    "\n",
    "X = np.array(X,type(float))\n",
    "y = np.array(y,type(float))"
   ],
   "metadata": {
    "collapsed": false,
    "ExecuteTime": {
     "end_time": "2023-11-01T12:32:47.657621Z",
     "start_time": "2023-11-01T12:32:47.651157700Z"
    }
   },
   "id": "5aa8757fc075fe64"
  },
  {
   "cell_type": "markdown",
   "source": [
    "Линейная регрессия с помощью библиотеки sklearn."
   ],
   "metadata": {
    "collapsed": false
   },
   "id": "f6bff6f7861de775"
  },
  {
   "cell_type": "code",
   "execution_count": 17,
   "outputs": [
    {
     "data": {
      "text/plain": "(array([0.78222442]), -2.6428269210263167e-16)"
     },
     "execution_count": 17,
     "metadata": {},
     "output_type": "execute_result"
    }
   ],
   "source": [
    "model = LinearRegression()\n",
    "model.fit(X,y)\n",
    "model.coef_, model.intercept_"
   ],
   "metadata": {
    "collapsed": false,
    "ExecuteTime": {
     "end_time": "2023-11-01T12:32:48.332798Z",
     "start_time": "2023-11-01T12:32:48.320628900Z"
    }
   },
   "id": "d6e30af36e383a80"
  },
  {
   "cell_type": "code",
   "execution_count": 18,
   "outputs": [],
   "source": [
    "model_y_sklearn = model.coef_[0] * X + model.intercept_\n",
    "mse_sklearn = mean_squared_error(model_y_sklearn, y)"
   ],
   "metadata": {
    "collapsed": false,
    "ExecuteTime": {
     "end_time": "2023-11-01T12:32:48.652577500Z",
     "start_time": "2023-11-01T12:32:48.643044Z"
    }
   },
   "id": "4af036a2f874bcc6"
  },
  {
   "cell_type": "markdown",
   "source": [
    "Линейная регрессия вручную."
   ],
   "metadata": {
    "collapsed": false
   },
   "id": "c9347e21073d0e4f"
  },
  {
   "cell_type": "code",
   "execution_count": 19,
   "outputs": [],
   "source": [
    "def mse(X, w1, w0, y):\n",
    "    y_pred = w1 * X[:, 0] + w0\n",
    "    return np.sum((y - y_pred) ** 2) / len(y_pred)\n",
    "\n",
    "def grad(X, w1, w0, y):\n",
    "    y_pred = w1 * X[:, 0] + w0\n",
    "    return np.array([2/len(X) * np.sum((y - y_pred)) * (-1),\n",
    "                     2/len(X) * np.sum((y - y_pred) * (-X[:, 0]))])"
   ],
   "metadata": {
    "collapsed": false,
    "ExecuteTime": {
     "end_time": "2023-11-01T12:32:49.408114800Z",
     "start_time": "2023-11-01T12:32:49.406545100Z"
    }
   },
   "id": "ed4b6ef343fffc60"
  },
  {
   "cell_type": "code",
   "execution_count": 20,
   "outputs": [],
   "source": [
    "eps = 0.0001\n",
    "lr = 0.001\n",
    "\n",
    "w1 = 0\n",
    "w0 = 0\n",
    "\n",
    "next_w1 = w1\n",
    "next_w0 = w0\n",
    "\n",
    "n = 100000\n",
    "for i in range(n):\n",
    "    cur_w1 = next_w1\n",
    "    cur_w0 = next_w0\n",
    "    \n",
    "    next_w0 = cur_w0 - lr * grad(X, cur_w1, cur_w0, y)[0]\n",
    "    next_w1 = cur_w1 - lr * grad(X, cur_w1, cur_w0, y)[1]\n",
    "    \n",
    "    # print(f\"Итерация: {i}\")\n",
    "    # print(f\"Текущая точка: {cur_w1, cur_w0} | Следующая точка: {next_w1, next_w0}\")\n",
    "    # print(f\"MSE: {mse(X, cur_w1, cur_w0, y)}\")\n",
    "    mse_our_model = mse(X, cur_w1, cur_w0, y)\n",
    "    # print(\"_______________________________________________________\")\n",
    "    \n",
    "    if (abs(cur_w1 - next_w1) <= eps) and (abs(cur_w0 - next_w0) <= eps):\n",
    "        break"
   ],
   "metadata": {
    "collapsed": false,
    "ExecuteTime": {
     "end_time": "2023-11-01T12:32:57.133758400Z",
     "start_time": "2023-11-01T12:32:57.019188900Z"
    }
   },
   "id": "55aa8bf6cc17fbbf"
  },
  {
   "cell_type": "markdown",
   "source": [
    "## №2.3\n",
    "\n",
    "#### Визуализировать регрессию на графике. ####"
   ],
   "metadata": {
    "collapsed": false
   },
   "id": "be1999bd0e989a96"
  },
  {
   "cell_type": "code",
   "execution_count": 21,
   "outputs": [
    {
     "name": "stderr",
     "output_type": "stream",
     "text": [
      "C:\\Users\\Katy\\AppData\\Local\\Temp\\ipykernel_31076\\1226958073.py:4: UserWarning: color is redundantly defined by the 'color' keyword argument and the fmt string \"--g\" (-> color='g'). The keyword argument will take precedence.\n",
      "  plt.plot(X, our_model_y, '--g', linewidth = 2, color = 'y', label = f'Вручную = {next_w1:.2f}x + {next_w0:.2f}, MSE: {round(mse_our_model, 2)}')\n"
     ]
    },
    {
     "data": {
      "text/plain": "<matplotlib.legend.Legend at 0x13b087a0850>"
     },
     "execution_count": 21,
     "metadata": {},
     "output_type": "execute_result"
    },
    {
     "data": {
      "text/plain": "<Figure size 640x480 with 1 Axes>",
      "image/png": "[encoded data removed]"
     },
     "metadata": {},
     "output_type": "display_data"
    }
   ],
   "source": [
    "our_model_y = next_w1 * X + next_w0\n",
    "\n",
    "plt.plot(X, model_y_sklearn, linewidth = 2, color = 'r', label = f'Модель sklearn = {model.coef_[0]:.2f}x + {model.intercept_:.2f}, MSE: {round(mse_sklearn, 2)}')\n",
    "plt.plot(X, our_model_y, '--g', linewidth = 2, color = 'y', label = f'Вручную = {next_w1:.2f}x + {next_w0:.2f}, MSE: {round(mse_our_model, 2)}')\n",
    "plt.scatter(X, y, alpha=0.7)\n",
    "plt.grid()\n",
    "plt.legend()"
   ],
   "metadata": {
    "collapsed": false,
    "ExecuteTime": {
     "end_time": "2023-11-01T12:32:59.845933400Z",
     "start_time": "2023-11-01T12:32:59.699634400Z"
    }
   },
   "id": "1298e83febe072a2"
  },
  {
   "cell_type": "markdown",
   "source": [
    "## №3\n",
    "\n",
    "#### Загрузить данные: 'insurance.csv'. Вывести и провести предобработку. Вывести список уникальных регионов. ####"
   ],
   "metadata": {
    "collapsed": false
   },
   "id": "d37eeafb3a09392b"
  },
  {
   "cell_type": "code",
   "execution_count": 23,
   "outputs": [
    {
     "data": {
      "text/plain": "      age     sex     bmi  children smoker     region      charges\n0      19  female  27.900         0    yes  southwest  16884.92400\n1      18    male  33.770         1     no  southeast   1725.55230\n2      28    male  33.000         3     no  southeast   4449.46200\n3      33    male  22.705         0     no  northwest  21984.47061\n4      32    male  28.880         0     no  northwest   3866.85520\n...   ...     ...     ...       ...    ...        ...          ...\n1333   50    male  30.970         3     no  northwest  10600.54830\n1334   18  female  31.920         0     no  northeast   2205.98080\n1335   18  female  36.850         0     no  southeast   1629.83350\n1336   21  female  25.800         0     no  southwest   2007.94500\n1337   61  female  29.070         0    yes  northwest  29141.36030\n\n[1338 rows x 7 columns]",
      "text/html": "<div>\n<style scoped>\n    .dataframe tbody tr th:only-of-type {\n        vertical-align: middle;\n    }\n\n    .dataframe tbody tr th {\n        vertical-align: top;\n    }\n\n    .dataframe thead th {\n        text-align: right;\n    }\n</style>\n<table border=\"1\" class=\"dataframe\">\n  <thead>\n    <tr style=\"text-align: right;\">\n      <th></th>\n      <th>age</th>\n      <th>sex</th>\n      <th>bmi</th>\n      <th>children</th>\n      <th>smoker</th>\n      <th>region</th>\n      <th>charges</th>\n    </tr>\n  </thead>\n  <tbody>\n    <tr>\n      <th>0</th>\n      <td>19</td>\n      <td>female</td>\n      <td>27.900</td>\n      <td>0</td>\n      <td>yes</td>\n      <td>southwest</td>\n      <td>16884.92400</td>\n    </tr>\n    <tr>\n      <th>1</th>\n      <td>18</td>\n      <td>male</td>\n      <td>33.770</td>\n      <td>1</td>\n      <td>no</td>\n      <td>southeast</td>\n      <td>1725.55230</td>\n    </tr>\n    <tr>\n      <th>2</th>\n      <td>28</td>\n      <td>male</td>\n      <td>33.000</td>\n      <td>3</td>\n      <td>no</td>\n      <td>southeast</td>\n      <td>4449.46200</td>\n    </tr>\n    <tr>\n      <th>3</th>\n      <td>33</td>\n      <td>male</td>\n      <td>22.705</td>\n      <td>0</td>\n      <td>no</td>\n      <td>northwest</td>\n      <td>21984.47061</td>\n    </tr>\n    <tr>\n      <th>4</th>\n      <td>32</td>\n      <td>male</td>\n      <td>28.880</td>\n      <td>0</td>\n      <td>no</td>\n      <td>northwest</td>\n      <td>3866.85520</td>\n    </tr>\n    <tr>\n      <th>...</th>\n      <td>...</td>\n      <td>...</td>\n      <td>...</td>\n      <td>...</td>\n      <td>...</td>\n      <td>...</td>\n      <td>...</td>\n    </tr>\n    <tr>\n      <th>1333</th>\n      <td>50</td>\n      <td>male</td>\n      <td>30.970</td>\n      <td>3</td>\n      <td>no</td>\n      <td>northwest</td>\n      <td>10600.54830</td>\n    </tr>\n    <tr>\n      <th>1334</th>\n      <td>18</td>\n      <td>female</td>\n      <td>31.920</td>\n      <td>0</td>\n      <td>no</td>\n      <td>northeast</td>\n      <td>2205.98080</td>\n    </tr>\n    <tr>\n      <th>1335</th>\n      <td>18</td>\n      <td>female</td>\n      <td>36.850</td>\n      <td>0</td>\n      <td>no</td>\n      <td>southeast</td>\n      <td>1629.83350</td>\n    </tr>\n    <tr>\n      <th>1336</th>\n      <td>21</td>\n      <td>female</td>\n      <td>25.800</td>\n      <td>0</td>\n      <td>no</td>\n      <td>southwest</td>\n      <td>2007.94500</td>\n    </tr>\n    <tr>\n      <th>1337</th>\n      <td>61</td>\n      <td>female</td>\n      <td>29.070</td>\n      <td>0</td>\n      <td>yes</td>\n      <td>northwest</td>\n      <td>29141.36030</td>\n    </tr>\n  </tbody>\n</table>\n<p>1338 rows × 7 columns</p>\n</div>"
     },
     "execution_count": 23,
     "metadata": {},
     "output_type": "execute_result"
    }
   ],
   "source": [
    "df3 = pd.read_csv(\"C:\\\\Users\\Katy\\Documents\\Mirea\\\\7 сем\\Бигдата\\Practice 4_Regression\\insurance.csv\")\n",
    "df3"
   ],
   "metadata": {
    "collapsed": false,
    "ExecuteTime": {
     "end_time": "2023-11-01T12:34:06.463245500Z",
     "start_time": "2023-11-01T12:34:06.441774700Z"
    }
   },
   "id": "29d953348d727ff1"
  },
  {
   "cell_type": "code",
   "execution_count": 24,
   "outputs": [
    {
     "data": {
      "text/plain": "age         0\nsex         0\nbmi         0\nchildren    0\nsmoker      0\nregion      0\ncharges     0\ndtype: int64"
     },
     "execution_count": 24,
     "metadata": {},
     "output_type": "execute_result"
    }
   ],
   "source": [
    "df3.isnull().sum()"
   ],
   "metadata": {
    "collapsed": false,
    "ExecuteTime": {
     "end_time": "2023-11-01T12:34:07.060120500Z",
     "start_time": "2023-11-01T12:34:07.057612600Z"
    }
   },
   "id": "3a85c93e72c8d0bd"
  },
  {
   "cell_type": "code",
   "execution_count": 25,
   "outputs": [
    {
     "data": {
      "text/plain": "0"
     },
     "execution_count": 25,
     "metadata": {},
     "output_type": "execute_result"
    }
   ],
   "source": [
    "df2.duplicated().sum()"
   ],
   "metadata": {
    "collapsed": false,
    "ExecuteTime": {
     "end_time": "2023-11-01T12:34:07.718767800Z",
     "start_time": "2023-11-01T12:34:07.710739600Z"
    }
   },
   "id": "5cf7551a58885f17"
  },
  {
   "cell_type": "markdown",
   "source": [
    "Список уникальных регионов."
   ],
   "metadata": {
    "collapsed": false
   },
   "id": "9347cb18263932b2"
  },
  {
   "cell_type": "code",
   "execution_count": 26,
   "outputs": [
    {
     "data": {
      "text/plain": "array(['southwest', 'southeast', 'northwest', 'northeast'], dtype=object)"
     },
     "execution_count": 26,
     "metadata": {},
     "output_type": "execute_result"
    }
   ],
   "source": [
    "df3['region'].unique()"
   ],
   "metadata": {
    "collapsed": false,
    "ExecuteTime": {
     "end_time": "2023-11-01T12:34:08.686559100Z",
     "start_time": "2023-11-01T12:34:08.679537200Z"
    }
   },
   "id": "b314b16450c42b4e"
  },
  {
   "cell_type": "markdown",
   "source": [
    "## №3.1\n",
    "\n",
    "#### Выполнить однофакторный ANOVA тест, чтобы проверить влияние региона на индекс массы тела (BMI), используя первый способ, через библиотеку Scipy. ####"
   ],
   "metadata": {
    "collapsed": false
   },
   "id": "e1f98ac4e5ccecef"
  },
  {
   "cell_type": "code",
   "execution_count": 27,
   "outputs": [],
   "source": [
    "df3_anova = df3[['region', 'bmi']]\n",
    "groups = df3_anova.groupby('region').groups\n",
    "\n",
    "southwest = groups['southwest']\n",
    "southeast = groups['southeast']\n",
    "northwest = groups['northwest']\n",
    "northeast = groups['northeast']"
   ],
   "metadata": {
    "collapsed": false,
    "ExecuteTime": {
     "end_time": "2023-11-01T12:34:09.656610200Z",
     "start_time": "2023-11-01T12:34:09.651526800Z"
    }
   },
   "id": "84b879e9b85b2111"
  },
  {
   "cell_type": "code",
   "execution_count": 28,
   "outputs": [
    {
     "data": {
      "text/plain": "F_onewayResult(statistic=0.346714661845191, pvalue=0.7915433732308843)"
     },
     "execution_count": 28,
     "metadata": {},
     "output_type": "execute_result"
    }
   ],
   "source": [
    "st.f_oneway(southeast, southwest, northeast, northwest)"
   ],
   "metadata": {
    "collapsed": false,
    "ExecuteTime": {
     "end_time": "2023-11-01T12:34:10.508184700Z",
     "start_time": "2023-11-01T12:34:10.498073700Z"
    }
   },
   "id": "7c44a3eacfc7db59"
  },
  {
   "cell_type": "markdown",
   "source": [
    "p-value > 0.05, следовательно, регион не оказывает статистически значимое влияние на bmi."
   ],
   "metadata": {
    "collapsed": false
   },
   "id": "f0acbe71fbc66c0d"
  },
  {
   "cell_type": "markdown",
   "source": [
    "## №3.2\n",
    "\n",
    "#### Выполнить однофакторный ANOVA тест, чтобы проверить влияние региона на индекс массы тела (BMI), используя второй способ, с помощью функции anova_lm() из библиотеки statsmodels. ####"
   ],
   "metadata": {
    "collapsed": false
   },
   "id": "c4ef386165c09444"
  },
  {
   "cell_type": "code",
   "execution_count": 29,
   "outputs": [
    {
     "data": {
      "text/plain": "                sum_sq      df          F        PR(>F)\nregion     4055.880631     3.0  39.495057  1.881839e-24\nResidual  45664.319755  1334.0        NaN           NaN",
      "text/html": "<div>\n<style scoped>\n    .dataframe tbody tr th:only-of-type {\n        vertical-align: middle;\n    }\n\n    .dataframe tbody tr th {\n        vertical-align: top;\n    }\n\n    .dataframe thead th {\n        text-align: right;\n    }\n</style>\n<table border=\"1\" class=\"dataframe\">\n  <thead>\n    <tr style=\"text-align: right;\">\n      <th></th>\n      <th>sum_sq</th>\n      <th>df</th>\n      <th>F</th>\n      <th>PR(&gt;F)</th>\n    </tr>\n  </thead>\n  <tbody>\n    <tr>\n      <th>region</th>\n      <td>4055.880631</td>\n      <td>3.0</td>\n      <td>39.495057</td>\n      <td>1.881839e-24</td>\n    </tr>\n    <tr>\n      <th>Residual</th>\n      <td>45664.319755</td>\n      <td>1334.0</td>\n      <td>NaN</td>\n      <td>NaN</td>\n    </tr>\n  </tbody>\n</table>\n</div>"
     },
     "execution_count": 29,
     "metadata": {},
     "output_type": "execute_result"
    }
   ],
   "source": [
    "anova_model = ols('bmi ~ region', data = df3).fit()\n",
    "anova_result = sm.stats.anova_lm(anova_model, typ = 2)\n",
    "anova_result"
   ],
   "metadata": {
    "collapsed": false,
    "ExecuteTime": {
     "end_time": "2023-11-01T12:34:12.789836500Z",
     "start_time": "2023-11-01T12:34:12.768763400Z"
    }
   },
   "id": "14e6fda0f5f9787"
  },
  {
   "cell_type": "markdown",
   "source": [
    "p-value < 0.05."
   ],
   "metadata": {
    "collapsed": false
   },
   "id": "6a35e15ef0ebb24c"
  },
  {
   "cell_type": "markdown",
   "source": [
    "## №3.3\n",
    "\n",
    "#### С помощью t критерия Стьюдента перебрать все пары. Определить поправку Бонферрони. Сделать выводы. ####"
   ],
   "metadata": {
    "collapsed": false
   },
   "id": "62cce53c99ca744e"
  },
  {
   "cell_type": "code",
   "execution_count": 30,
   "outputs": [
    {
     "name": "stdout",
     "output_type": "stream",
     "text": [
      "    Region 1   Region 2  T-Statistic       P-Value  \\\n",
      "0  southwest  southeast    -5.908374  5.437401e-09   \n",
      "1  southwest  northwest     3.284417  1.076958e-03   \n",
      "2  southwest  northeast     3.116900  1.908616e-03   \n",
      "3  southeast  northwest     9.256490  2.643571e-19   \n",
      "4  southeast  northeast     8.790906  1.186015e-17   \n",
      "5  northwest  northeast     0.060308  9.519292e-01   \n",
      "\n",
      "  P-Value (Bonferroni Corrected)  \n",
      "0                   0.0000000326  \n",
      "1                   0.0064617510  \n",
      "2                   0.0114516970  \n",
      "3                   0.0000000000  \n",
      "4                   0.0000000000  \n",
      "5                   5.7115750249  \n"
     ]
    }
   ],
   "source": [
    "regions = ['southwest', 'southeast', 'northwest', 'northeast']\n",
    "region_pair = []\n",
    "\n",
    "from itertools import combinations\n",
    "from scipy.stats import ttest_ind\n",
    "\n",
    "for region1, region2 in combinations(regions, 2):\n",
    "\n",
    "    group1 = df3[df3['region'] == region1]['bmi']\n",
    "    group2 = df3[df3['region'] == region2]['bmi']\n",
    "\n",
    "    t_stat, p_value = ttest_ind(group1, group2)\n",
    "    region_pair.append(\n",
    "        {\n",
    "            'Region 1': region1,\n",
    "            'Region 2': region2,\n",
    "            'T-Statistic': t_stat,\n",
    "            'P-Value': p_value\n",
    "        }\n",
    "    )\n",
    "\n",
    "results_df = pd.DataFrame(region_pair)\n",
    "\n",
    "alpha = 0.05\n",
    "results_df['P-Value (Bonferroni Corrected)'] = results_df['P-Value'] * len(region_pair)\n",
    "\n",
    "results_df['P-Value (Bonferroni Corrected)'] = results_df['P-Value (Bonferroni Corrected)'].apply(lambda x: \"{:.10f}\".format(x))\n",
    "print(results_df)"
   ],
   "metadata": {
    "collapsed": false,
    "ExecuteTime": {
     "end_time": "2023-11-01T12:34:14.635511200Z",
     "start_time": "2023-11-01T12:34:14.618609400Z"
    }
   },
   "id": "f4dbca5d2d75c790"
  },
  {
   "cell_type": "markdown",
   "source": [
    "## №3.4\n",
    "\n",
    "#### Выполнить пост-хок тесты Тьюки и построить график. ####"
   ],
   "metadata": {
    "collapsed": false
   },
   "id": "2476bf94a0e501fb"
  },
  {
   "cell_type": "code",
   "execution_count": 31,
   "outputs": [
    {
     "data": {
      "text/plain": "<class 'statsmodels.iolib.table.SimpleTable'>",
      "text/html": "<table class=\"simpletable\">\n<caption>Multiple Comparison of Means - Tukey HSD, FWER=0.05</caption>\n<tr>\n   <th>group1</th>    <th>group2</th>   <th>meandiff</th>  <th>p-adj</th>  <th>lower</th>   <th>upper</th>  <th>reject</th>\n</tr>\n<tr>\n  <td>northeast</td> <td>northwest</td>  <td>0.0263</td>  <td>0.9999</td> <td>-1.1552</td> <td>1.2078</td>   <td>False</td>\n</tr>\n<tr>\n  <td>northeast</td> <td>southeast</td>  <td>4.1825</td>    <td>0.0</td>   <td>3.033</td>   <td>5.332</td>   <td>True</td> \n</tr>\n<tr>\n  <td>northeast</td> <td>southwest</td>  <td>1.4231</td>  <td>0.0107</td> <td>0.2416</td>  <td>2.6046</td>   <td>True</td> \n</tr>\n<tr>\n  <td>northwest</td> <td>southeast</td>  <td>4.1562</td>    <td>0.0</td>  <td>3.0077</td>  <td>5.3047</td>   <td>True</td> \n</tr>\n<tr>\n  <td>northwest</td> <td>southwest</td>  <td>1.3968</td>  <td>0.0127</td> <td>0.2162</td>  <td>2.5774</td>   <td>True</td> \n</tr>\n<tr>\n  <td>southeast</td> <td>southwest</td>  <td>-2.7594</td>   <td>0.0</td>  <td>-3.9079</td> <td>-1.6108</td>  <td>True</td> \n</tr>\n</table>",
      "text/latex": "\\begin{center}\n\\begin{tabular}{ccccccc}\n\\toprule\n\\textbf{group1} & \\textbf{group2} & \\textbf{meandiff} & \\textbf{p-adj} & \\textbf{lower} & \\textbf{upper} & \\textbf{reject}  \\\\\n\\midrule\n   northeast    &    northwest    &       0.0263      &     0.9999     &    -1.1552     &     1.2078     &      False       \\\\\n   northeast    &    southeast    &       4.1825      &      0.0       &     3.033      &     5.332      &       True       \\\\\n   northeast    &    southwest    &       1.4231      &     0.0107     &     0.2416     &     2.6046     &       True       \\\\\n   northwest    &    southeast    &       4.1562      &      0.0       &     3.0077     &     5.3047     &       True       \\\\\n   northwest    &    southwest    &       1.3968      &     0.0127     &     0.2162     &     2.5774     &       True       \\\\\n   southeast    &    southwest    &      -2.7594      &      0.0       &    -3.9079     &    -1.6108     &       True       \\\\\n\\bottomrule\n\\end{tabular}\n%\\caption{Multiple Comparison of Means - Tukey HSD, FWER=0.05}\n\\end{center}"
     },
     "execution_count": 31,
     "metadata": {},
     "output_type": "execute_result"
    },
    {
     "data": {
      "text/plain": "<Figure size 1000x600 with 1 Axes>",
      "image/png": "[encoded data removed]"
     },
     "metadata": {},
     "output_type": "display_data"
    }
   ],
   "source": [
    "tukey = pairwise_tukeyhsd(endog=df3['bmi'].values, groups=df3['region'], alpha = 0.05)\n",
    "\n",
    "tukey.plot_simultaneous()\n",
    "plt.vlines(x = 49.57, ymin = -0.5, ymax = 4.5, color = \"red\")\n",
    "tukey.summary()"
   ],
   "metadata": {
    "collapsed": false,
    "ExecuteTime": {
     "end_time": "2023-11-01T12:34:15.951493800Z",
     "start_time": "2023-11-01T12:34:15.647499Z"
    }
   },
   "id": "c98e4632bcd3a1e1"
  },
  {
   "cell_type": "markdown",
   "source": [
    "## №3.5\n",
    "\n",
    "#### Выполнить двухфакторный ANOVA тест, чтобы проверить влияние региона и пола на индекс массы тела (BMI), используя функцию anova_lm() из библиотеки statsmodels. ####"
   ],
   "metadata": {
    "collapsed": false
   },
   "id": "6b8ee8988952f22f"
  },
  {
   "cell_type": "code",
   "execution_count": 32,
   "outputs": [
    {
     "data": {
      "text/plain": "                        sum_sq      df          F        PR(>F)\nC(region)          4034.975135     3.0  39.398134  2.163195e-24\nC(sex)               86.007035     1.0   2.519359  1.126940e-01\nC(region):C(sex)    174.157808     3.0   1.700504  1.650655e-01\nResidual          45404.154911  1330.0        NaN           NaN",
      "text/html": "<div>\n<style scoped>\n    .dataframe tbody tr th:only-of-type {\n        vertical-align: middle;\n    }\n\n    .dataframe tbody tr th {\n        vertical-align: top;\n    }\n\n    .dataframe thead th {\n        text-align: right;\n    }\n</style>\n<table border=\"1\" class=\"dataframe\">\n  <thead>\n    <tr style=\"text-align: right;\">\n      <th></th>\n      <th>sum_sq</th>\n      <th>df</th>\n      <th>F</th>\n      <th>PR(&gt;F)</th>\n    </tr>\n  </thead>\n  <tbody>\n    <tr>\n      <th>C(region)</th>\n      <td>4034.975135</td>\n      <td>3.0</td>\n      <td>39.398134</td>\n      <td>2.163195e-24</td>\n    </tr>\n    <tr>\n      <th>C(sex)</th>\n      <td>86.007035</td>\n      <td>1.0</td>\n      <td>2.519359</td>\n      <td>1.126940e-01</td>\n    </tr>\n    <tr>\n      <th>C(region):C(sex)</th>\n      <td>174.157808</td>\n      <td>3.0</td>\n      <td>1.700504</td>\n      <td>1.650655e-01</td>\n    </tr>\n    <tr>\n      <th>Residual</th>\n      <td>45404.154911</td>\n      <td>1330.0</td>\n      <td>NaN</td>\n      <td>NaN</td>\n    </tr>\n  </tbody>\n</table>\n</div>"
     },
     "execution_count": 32,
     "metadata": {},
     "output_type": "execute_result"
    }
   ],
   "source": [
    "model = ols('bmi ~ C(region) * C(sex)', data=df3).fit()\n",
    "anova_table = sm.stats.anova_lm(model, typ=2)\n",
    "anova_table"
   ],
   "metadata": {
    "collapsed": false,
    "ExecuteTime": {
     "end_time": "2023-11-01T12:34:19.579726600Z",
     "start_time": "2023-11-01T12:34:19.564210800Z"
    }
   },
   "id": "bbed27bb3f93f6d8"
  },
  {
   "cell_type": "markdown",
   "source": [
    "## №3.6\n",
    "\n",
    "#### Выполнить пост-хок тесты Тьюки и построить график. ####"
   ],
   "metadata": {
    "collapsed": false
   },
   "id": "cd94bc334d355da8"
  },
  {
   "cell_type": "code",
   "execution_count": 34,
   "outputs": [],
   "source": [
    "# mc = MultiComparison(df3['bmi'], df3['region'])\n",
    "# mc.tukeyhsd().plot_simultaneous()"
   ],
   "metadata": {
    "collapsed": false,
    "ExecuteTime": {
     "end_time": "2023-11-01T12:34:30.910624700Z",
     "start_time": "2023-11-01T12:34:30.871894500Z"
    }
   },
   "id": "946659c7bf7d6366"
  },
  {
   "cell_type": "code",
   "execution_count": null,
   "outputs": [],
   "source": [],
   "metadata": {
    "collapsed": false
   },
   "id": "3f5e0b7f92e398ce"
  }
 ],
 "metadata": {
  "kernelspec": {
   "display_name": "Python 3",
   "language": "python",
   "name": "python3"
  },
  "language_info": {
   "codemirror_mode": {
    "name": "ipython",
    "version": 2
   },
   "file_extension": ".py",
   "mimetype": "text/x-python",
   "name": "python",
   "nbconvert_exporter": "python",
   "pygments_lexer": "ipython2",
   "version": "2.7.6"
  }
 },
 "nbformat": 4,
 "nbformat_minor": 5
}
